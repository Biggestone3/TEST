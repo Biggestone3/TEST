{
 "cells": [
  {
   "cell_type": "markdown",
   "id": "0",
   "metadata": {},
   "source": [
    "## Seeing and Plotting for the evaluation of the data:\n",
    "#### We ll use a simple heatmap and histogram to visualize how frequent each source is getting updated"
   ]
  },
  {
   "cell_type": "code",
   "execution_count": null,
   "id": "1",
   "metadata": {},
   "outputs": [],
   "source": [
    "#importing all necessary libraries\n",
    "import pandas as pd\n",
    "import numpy as np\n",
    "\n",
    "import plotly.express as px\n",
    "import matplotlib.pyplot as plt\n",
    "%matplotlib inline\n",
    "import seaborn as sns\n",
    "\n",
    "import scipy.stats as stats \n",
    "from scipy.stats import chi2_contingency\n",
    "\n",
    "from statsmodels.formula.api import ols\n",
    "from statsmodels.stats.anova import anova_lm \n",
    "import warnings \n",
    "warnings.filterwarnings('ignore')"
   ]
  },
  {
   "cell_type": "code",
   "execution_count": null,
   "id": "2",
   "metadata": {},
   "outputs": [],
   "source": [
    "from pymongo import MongoClient\n",
    "import os\n",
    "from dotenv import load_dotenv\n",
    "load_dotenv()\n",
    "mongo_uri = os.getenv(\"MONGO_URI\")\n",
    "\n",
    "client = MongoClient(mongo_uri)\n",
    "# Create a new database\n",
    "db = client[\"my_db\"]\n",
    "\n",
    "print(\"Connected to MongoDB!\")\n",
    "\n",
    "\n",
    "import pandas as pd\n",
    "\n",
    "article = db[\"articles\"]\n",
    "user = db[\"users\"]\n",
    "source = db[\"sources\"]\n",
    "\n",
    "docs = article.find()\n",
    "df = pd.DataFrame(list(docs))\n",
    "df.head()"
   ]
  },
  {
   "cell_type": "code",
   "execution_count": null,
   "id": "3",
   "metadata": {},
   "outputs": [],
   "source": [
    "print(\"There is \",len(df), \" articles in the DB\")"
   ]
  },
  {
   "cell_type": "code",
   "execution_count": null,
   "id": "4",
   "metadata": {},
   "outputs": [],
   "source": [
    "mayadeen_df = df[df['source_id'] == mayadeen_id]\n",
    "print(\"There is \",len(mayadeen_df), \" articles from mayadeen\")\n",
    "#apparently there is a major problem in th source IDs"
   ]
  },
  {
   "cell_type": "code",
   "execution_count": null,
   "id": "5",
   "metadata": {},
   "outputs": [],
   "source": [
    "manar_df = df[df['source_id'] == manar_id]\n",
    "print(\"There is \",len(manar_df), \" articles from manar\")"
   ]
  },
  {
   "cell_type": "code",
   "execution_count": null,
   "id": "6",
   "metadata": {},
   "outputs": [],
   "source": [
    "mtv_df = df[df['source_id'] == mtv_id]\n",
    "print(\"There is \",len(mtv_df), \" articles from mtv\")"
   ]
  },
  {
   "cell_type": "code",
   "execution_count": null,
   "id": "7",
   "metadata": {},
   "outputs": [],
   "source": [
    "jadeed_df = df[df['source_id'] == jadeed_id]\n",
    "print(\"There is \",len(jadeed_df), \" articles from jadeed\")"
   ]
  },
  {
   "cell_type": "code",
   "execution_count": null,
   "id": "8",
   "metadata": {},
   "outputs": [],
   "source": [
    "annahar_df = df[df['source_id'] == annahar_id]\n",
    "print(\"There is \",len(annahar_df), \" articles from annahar\")"
   ]
  },
  {
   "cell_type": "code",
   "execution_count": null,
   "id": "9",
   "metadata": {},
   "outputs": [],
   "source": [
    "#checking for duplicate news\n",
    "df.url.is_unique"
   ]
  },
  {
   "cell_type": "code",
   "execution_count": null,
   "id": "10",
   "metadata": {},
   "outputs": [],
   "source": [
    "#checking for empty slots\n",
    "df.isna().sum()"
   ]
  },
  {
   "cell_type": "code",
   "execution_count": null,
   "id": "11",
   "metadata": {},
   "outputs": [],
   "source": [
    "#we can check for where the language is unknown\n",
    "df[df['language'] == 'unknown'].head(2)\n",
    "#notice that the content is empty could be some rapid news or something or video"
   ]
  },
  {
   "cell_type": "code",
   "execution_count": null,
   "id": "12",
   "metadata": {},
   "outputs": [],
   "source": [
    "#checking for empty content:\n",
    "df[(df['content'] == ' ') | (df['content']== 'No content to be displayed.')]"
   ]
  },
  {
   "cell_type": "markdown",
   "id": "13",
   "metadata": {},
   "source": [
    "## we can plot which sources have the most empty contents\n",
    "### but 1606 news out of 3300 is A LOT"
   ]
  },
  {
   "cell_type": "markdown",
   "id": "14",
   "metadata": {},
   "source": [
    "### we need to first group them by days i.e. get all of the number of articles that are uploaded in this day"
   ]
  },
  {
   "cell_type": "code",
   "execution_count": null,
   "id": "15",
   "metadata": {},
   "outputs": [],
   "source": [
    "import datetime\n",
    "#we'll have a list of the corresponding news article\n",
    "news_list_dict = ['mayadeen', 'annahar', 'mtv', 'jadeed', 'manar']\n",
    "#now we need to establish the corresponding frequencies"
   ]
  },
  {
   "cell_type": "code",
   "execution_count": null,
   "id": "16",
   "metadata": {},
   "outputs": [],
   "source": [
    "mayadeen_df[mayadeen_df['publish_date'] > str(datetime.date.today())]"
   ]
  },
  {
   "cell_type": "code",
   "execution_count": null,
   "id": "17",
   "metadata": {},
   "outputs": [],
   "source": [
    "today = mayadeen_df[mayadeen_df['publish_date'] > str(datetime.date.today())]\n",
    "today"
   ]
  },
  {
   "cell_type": "code",
   "execution_count": null,
   "id": "18",
   "metadata": {},
   "outputs": [],
   "source": [
    "#transforming into hours and not datetime\n",
    "def get_hours(date):\n",
    "    return date.hour\n",
    "\n",
    "def day_news(news_df):\n",
    "    return news_df[news_df['created_at'] > str(datetime.date.today())].publish_date\n",
    "def hour_news(news_df):\n",
    "    day_series = day_news(news_df)\n",
    "    return day_series.to_frame().applymap(get_hours)\n",
    "hour_mayadeen = hour_news(mayadeen_df).value_counts()\n",
    "hour_mtv = hour_news(mtv_df).value_counts()\n",
    "hour_manar = hour_news(manar_df).value_counts()\n",
    "hour_jadeed = hour_news(jadeed_df).value_counts()\n",
    "hour_annahar = hour_news(annahar_df).value_counts()"
   ]
  },
  {
   "cell_type": "markdown",
   "id": "19",
   "metadata": {},
   "source": [
    "## Plotting Frequency"
   ]
  },
  {
   "cell_type": "code",
   "execution_count": null,
   "id": "20",
   "metadata": {},
   "outputs": [],
   "source": [
    "hour_mayadeen"
   ]
  },
  {
   "cell_type": "code",
   "execution_count": null,
   "id": "21",
   "metadata": {},
   "outputs": [],
   "source": [
    "plt.figure(figsize=(8, 5))\n",
    "hour_mayadeen.plot(label = 'mayadeen')\n",
    "hour_mtv.plot(label = 'mtv')\n",
    "hour_manar.plot(label = 'manar')\n",
    "hour_jadeed.plot(label = 'jadeed')\n",
    "hour_annahar.plot(label = 'annahar')\n",
    "plt.xticks([0, 2, 4, 6, 8, 10, 12, 14, 16, 18, 20, 22, 24], ['0', '2', '4', '6', '8', '10', '12', '14', '16', '18', '20', '22', '24'])\n",
    "plt.xlabel('hour')\n",
    "plt.legend()\n",
    "plt.show()"
   ]
  },
  {
   "cell_type": "markdown",
   "id": "22",
   "metadata": {},
   "source": [
    "### for the distributions of the number of charachters"
   ]
  },
  {
   "cell_type": "code",
   "execution_count": null,
   "id": "23",
   "metadata": {},
   "outputs": [],
   "source": [
    "def get_count(content):\n",
    "    return len(content)\n",
    "mayadeen_count_char = mayadeen_df['content'].to_frame().applymap(get_count)\n",
    "annahar_count_char = annahar_df['content'].to_frame().applymap(get_count)\n",
    "mtv_count_char = mtv_df['content'].to_frame().applymap(get_count)\n",
    "jadeed_count_char = jadeed_df['content'].to_frame().applymap(get_count)\n",
    "manar_count_char = manar_df['content'].to_frame().applymap(get_count)"
   ]
  },
  {
   "cell_type": "code",
   "execution_count": null,
   "id": "24",
   "metadata": {},
   "outputs": [],
   "source": [
    "#setting up the y and x axis for the histogram\n",
    "values = [['mayadeen', int(mayadeen_count_char.describe().T['mean'])] , \n",
    "          ['annahar', int(annahar_count_char.describe().T['mean']) ],\n",
    "          ['mtv',int(mtv_count_char.describe().T['mean'])] ,\n",
    "          ['jadeed',int(jadeed_count_char.describe().T['mean'])] ,\n",
    "          ['manar',int(manar_count_char.describe().T['mean'])]]\n",
    "news = ['mayadeen', 'annahar', 'mtv', 'jadeed', 'manar']\n",
    "count = pd.DataFrame(values, columns = ['news', 'count'])\n",
    "count"
   ]
  },
  {
   "cell_type": "code",
   "execution_count": null,
   "id": "25",
   "metadata": {},
   "outputs": [],
   "source": [
    "fig = px.histogram(data_frame = count,\n",
    "                   x='news', y ='count', facet_col_spacing = 1, nbins = 10)\n",
    "fig.show()"
   ]
  },
  {
   "cell_type": "markdown",
   "id": "26",
   "metadata": {},
   "source": [
    "### Number of words: (applying the same logic)"
   ]
  },
  {
   "cell_type": "code",
   "execution_count": null,
   "id": "27",
   "metadata": {},
   "outputs": [],
   "source": [
    "def get_count_wrd(content):\n",
    "    return len(content.split(' '))\n",
    "mayadeen_count_wrd = mayadeen_df['content'].to_frame().applymap(get_count_wrd)\n",
    "annahar_count_wrd = annahar_df['content'].to_frame().applymap(get_count_wrd)\n",
    "mtv_count_wrd = mtv_df['content'].to_frame().applymap(get_count_wrd)\n",
    "jadeed_count_wrd = jadeed_df['content'].to_frame().applymap(get_count_wrd)\n",
    "manar_count_wrd = manar_df['content'].to_frame().applymap(get_count_wrd)"
   ]
  },
  {
   "cell_type": "code",
   "execution_count": null,
   "id": "28",
   "metadata": {},
   "outputs": [],
   "source": [
    "mayadeen_count_wrd.head(3)"
   ]
  },
  {
   "cell_type": "code",
   "execution_count": null,
   "id": "29",
   "metadata": {},
   "outputs": [],
   "source": [
    "#setting up the y and x axis for the histogram\n",
    "values = [['mayadeen', int(mayadeen_count_wrd.describe().T['mean'])] , \n",
    "          ['annahar', int(annahar_count_wrd.describe().T['mean']) ],\n",
    "          ['mtv',int(mtv_count_wrd.describe().T['mean'])] ,\n",
    "          ['jadeed',int(jadeed_count_wrd.describe().T['mean'])] ,\n",
    "          ['manar',int(manar_count_wrd.describe().T['mean'])]]\n",
    "news = ['mayadeen', 'annahar', 'mtv', 'jadeed', 'manar']\n",
    "count_wrd = pd.DataFrame(values, columns = ['news', 'count'])\n",
    "count_wrd"
   ]
  },
  {
   "cell_type": "code",
   "execution_count": null,
   "id": "30",
   "metadata": {},
   "outputs": [],
   "source": [
    "fig = px.histogram(data_frame = count_wrd,\n",
    "                   x='news', y ='count', facet_col_spacing = 1, nbins = 10)\n",
    "fig.show()"
   ]
  }
 ],
 "metadata": {
  "kernelspec": {
   "display_name": "Python 3 (ipykernel)",
   "language": "python",
   "name": "python3"
  },
  "language_info": {
   "codemirror_mode": {
    "name": "ipython",
    "version": 3
   },
   "file_extension": ".py",
   "mimetype": "text/x-python",
   "name": "python",
   "nbconvert_exporter": "python",
   "pygments_lexer": "ipython3",
   "version": "3.12.3"
  }
 },
 "nbformat": 4,
 "nbformat_minor": 5
}
