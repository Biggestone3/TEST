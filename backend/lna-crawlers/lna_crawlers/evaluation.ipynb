{
 "cells": [
  {
   "cell_type": "markdown",
   "id": "45fdd555-8f40-4600-bb5d-59e3d82b8d5d",
   "metadata": {},
   "source": [
    "## Seeing and Plotting for the evaluation of the data:\n",
    "#### We ll use a simple heatmap and histogram to visualize how frequent each source is getting updated"
   ]
  },
  {
   "cell_type": "code",
   "execution_count": 713,
   "id": "001b1e47-5078-4022-b692-c9240495f3b7",
   "metadata": {},
   "outputs": [],
   "source": [
    "#importing all necessary libraries\n",
    "import pandas as pd\n",
    "import numpy as np\n",
    "\n",
    "import plotly.express as px\n",
    "import matplotlib.pyplot as plt\n",
    "%matplotlib inline\n",
    "import seaborn as sns\n",
    "\n",
    "import scipy.stats as stats \n",
    "from scipy.stats import chi2_contingency\n",
    "\n",
    "from statsmodels.formula.api import ols\n",
    "from statsmodels.stats.anova import anova_lm \n",
    "import warnings \n",
    "warnings.filterwarnings('ignore')"
   ]
  },
  {
   "cell_type": "code",
   "execution_count": 715,
   "id": "47d59de7-b35a-4853-9497-6ea890c14e85",
   "metadata": {},
   "outputs": [
    {
     "name": "stdout",
     "output_type": "stream",
     "text": [
      "Connected to MongoDB!\n"
     ]
    },
    {
     "data": {
      "text/html": [
       "<div>\n",
       "<style scoped>\n",
       "    .dataframe tbody tr th:only-of-type {\n",
       "        vertical-align: middle;\n",
       "    }\n",
       "\n",
       "    .dataframe tbody tr th {\n",
       "        vertical-align: top;\n",
       "    }\n",
       "\n",
       "    .dataframe thead th {\n",
       "        text-align: right;\n",
       "    }\n",
       "</style>\n",
       "<table border=\"1\" class=\"dataframe\">\n",
       "  <thead>\n",
       "    <tr style=\"text-align: right;\">\n",
       "      <th></th>\n",
       "      <th>_id</th>\n",
       "      <th>created_at</th>\n",
       "      <th>updated_at</th>\n",
       "      <th>uuid</th>\n",
       "      <th>source_id</th>\n",
       "      <th>url</th>\n",
       "      <th>publish_date</th>\n",
       "      <th>title</th>\n",
       "      <th>content</th>\n",
       "      <th>language</th>\n",
       "    </tr>\n",
       "  </thead>\n",
       "  <tbody>\n",
       "    <tr>\n",
       "      <th>0</th>\n",
       "      <td>680e6133d6ed6d0d4643c71a</td>\n",
       "      <td>2025-04-27 16:54:08.057</td>\n",
       "      <td>2025-04-27 16:54:11.640</td>\n",
       "      <td>b'cl\\x9c\\x97gYG\\xaf\\x8b6\\xda\\xb8\\xf2\\xf7X\\xd6'</td>\n",
       "      <td>b'\\x00\\x00\\x00\\x00\\x00\\x00\\x00\\x00\\x00\\x00\\x00...</td>\n",
       "      <td>https://almanar.com.lb/13414865</td>\n",
       "      <td>2025-04-27 16:52:38</td>\n",
       "      <td>8 جرحى بحادث سير على اوتوستراد ‎السعديات باتجا...</td>\n",
       "      <td>أصيب 8 أشخاص يوم الاحد بحادث سير وقع على اوتوس...</td>\n",
       "      <td>ar</td>\n",
       "    </tr>\n",
       "    <tr>\n",
       "      <th>1</th>\n",
       "      <td>680e7428d6ed6d0d4643c766</td>\n",
       "      <td>2025-04-27 18:15:03.869</td>\n",
       "      <td>2025-04-27 18:15:04.988</td>\n",
       "      <td>b'iZ\\x87\\x7f~mIQ\\x90\\xce\\xaa\\x91\\x8d\\xa8\\x83\\xd2'</td>\n",
       "      <td>b'\\x00\\x00\\x00\\x00\\x00\\x00\\x00\\x00\\x00\\x00\\x00...</td>\n",
       "      <td>https://www.aljadeed.tv/news/%d8%ae%d8%a7%d8%b...</td>\n",
       "      <td>2025-04-27 18:12:29</td>\n",
       "      <td>حسين أيوب لـ &amp;quot;وهلق شو&amp;quot;: الحزب لم يتخ...</td>\n",
       "      <td>No content to be displayed.</td>\n",
       "      <td>ar</td>\n",
       "    </tr>\n",
       "    <tr>\n",
       "      <th>2</th>\n",
       "      <td>680e742ad6ed6d0d4643c767</td>\n",
       "      <td>2025-04-27 18:15:03.837</td>\n",
       "      <td>2025-04-27 18:15:06.929</td>\n",
       "      <td>b'\\xa1\\xe3\\x98\\\\CPH\\x1b\\x86`\\x7f\\xf6T\\xb4\\xf1d'</td>\n",
       "      <td>b'\\x00\\x00\\x00\\x00\\x00\\x00\\x00\\x00\\x00\\x00\\x00...</td>\n",
       "      <td>https://almanar.com.lb/13415448</td>\n",
       "      <td>2025-04-27 18:13:47</td>\n",
       "      <td>جيش الاحتلال ينسف عدداً من المباني في رفح جنوب...</td>\n",
       "      <td>No content to be displayed.</td>\n",
       "      <td>ar</td>\n",
       "    </tr>\n",
       "    <tr>\n",
       "      <th>3</th>\n",
       "      <td>680eae853258ace5920ca46f</td>\n",
       "      <td>2025-04-27 22:24:02.965</td>\n",
       "      <td>2025-04-27 22:24:05.803</td>\n",
       "      <td>b'\\x9c\\xb75s\\xc1\\xacN;\\xb5\\x90\\x0em\\xeaz\\x8e\\xad'</td>\n",
       "      <td>b'\\x00\\x00\\x00\\x00\\x00\\x00\\x00\\x00\\x00\\x00\\x00...</td>\n",
       "      <td>https://almanar.com.lb/13416119</td>\n",
       "      <td>2025-04-27 22:20:44</td>\n",
       "      <td>طيران الاحتلال يشن غارة شمال مخيم النصيرات وسط...</td>\n",
       "      <td>No content to be displayed.</td>\n",
       "      <td>ar</td>\n",
       "    </tr>\n",
       "    <tr>\n",
       "      <th>4</th>\n",
       "      <td>680f0b5370af0940b79444d8</td>\n",
       "      <td>2025-04-28 05:00:02.981</td>\n",
       "      <td>2025-04-28 05:00:03.884</td>\n",
       "      <td>b'\\xa3}\\xc5\\xca\\xbc\\xe1I\\t\\x8a\\x93\\x03ZV\\x8dsR'</td>\n",
       "      <td>b'\\x00\\x00\\x00\\x00\\x00\\x00\\x00\\x00\\x00\\x00\\x00...</td>\n",
       "      <td>https://www.aljadeed.tv/sports/%d9%83%d8%b1%d8...</td>\n",
       "      <td>2025-04-28 04:42:34</td>\n",
       "      <td>ليفربول يحتفي بفيديو رائع بلقب الدوري الإنجليز...</td>\n",
       "      <td>نشر نادي ليفربول على مواقع التواصل الاجتماعي ف...</td>\n",
       "      <td>ar</td>\n",
       "    </tr>\n",
       "  </tbody>\n",
       "</table>\n",
       "</div>"
      ],
      "text/plain": [
       "                        _id              created_at              updated_at  \\\n",
       "0  680e6133d6ed6d0d4643c71a 2025-04-27 16:54:08.057 2025-04-27 16:54:11.640   \n",
       "1  680e7428d6ed6d0d4643c766 2025-04-27 18:15:03.869 2025-04-27 18:15:04.988   \n",
       "2  680e742ad6ed6d0d4643c767 2025-04-27 18:15:03.837 2025-04-27 18:15:06.929   \n",
       "3  680eae853258ace5920ca46f 2025-04-27 22:24:02.965 2025-04-27 22:24:05.803   \n",
       "4  680f0b5370af0940b79444d8 2025-04-28 05:00:02.981 2025-04-28 05:00:03.884   \n",
       "\n",
       "                                                uuid  \\\n",
       "0     b'cl\\x9c\\x97gYG\\xaf\\x8b6\\xda\\xb8\\xf2\\xf7X\\xd6'   \n",
       "1  b'iZ\\x87\\x7f~mIQ\\x90\\xce\\xaa\\x91\\x8d\\xa8\\x83\\xd2'   \n",
       "2    b'\\xa1\\xe3\\x98\\\\CPH\\x1b\\x86`\\x7f\\xf6T\\xb4\\xf1d'   \n",
       "3  b'\\x9c\\xb75s\\xc1\\xacN;\\xb5\\x90\\x0em\\xeaz\\x8e\\xad'   \n",
       "4    b'\\xa3}\\xc5\\xca\\xbc\\xe1I\\t\\x8a\\x93\\x03ZV\\x8dsR'   \n",
       "\n",
       "                                           source_id  \\\n",
       "0  b'\\x00\\x00\\x00\\x00\\x00\\x00\\x00\\x00\\x00\\x00\\x00...   \n",
       "1  b'\\x00\\x00\\x00\\x00\\x00\\x00\\x00\\x00\\x00\\x00\\x00...   \n",
       "2  b'\\x00\\x00\\x00\\x00\\x00\\x00\\x00\\x00\\x00\\x00\\x00...   \n",
       "3  b'\\x00\\x00\\x00\\x00\\x00\\x00\\x00\\x00\\x00\\x00\\x00...   \n",
       "4  b'\\x00\\x00\\x00\\x00\\x00\\x00\\x00\\x00\\x00\\x00\\x00...   \n",
       "\n",
       "                                                 url        publish_date  \\\n",
       "0                    https://almanar.com.lb/13414865 2025-04-27 16:52:38   \n",
       "1  https://www.aljadeed.tv/news/%d8%ae%d8%a7%d8%b... 2025-04-27 18:12:29   \n",
       "2                    https://almanar.com.lb/13415448 2025-04-27 18:13:47   \n",
       "3                    https://almanar.com.lb/13416119 2025-04-27 22:20:44   \n",
       "4  https://www.aljadeed.tv/sports/%d9%83%d8%b1%d8... 2025-04-28 04:42:34   \n",
       "\n",
       "                                               title  \\\n",
       "0  8 جرحى بحادث سير على اوتوستراد ‎السعديات باتجا...   \n",
       "1  حسين أيوب لـ &quot;وهلق شو&quot;: الحزب لم يتخ...   \n",
       "2  جيش الاحتلال ينسف عدداً من المباني في رفح جنوب...   \n",
       "3  طيران الاحتلال يشن غارة شمال مخيم النصيرات وسط...   \n",
       "4  ليفربول يحتفي بفيديو رائع بلقب الدوري الإنجليز...   \n",
       "\n",
       "                                             content language  \n",
       "0  أصيب 8 أشخاص يوم الاحد بحادث سير وقع على اوتوس...       ar  \n",
       "1                        No content to be displayed.       ar  \n",
       "2                        No content to be displayed.       ar  \n",
       "3                        No content to be displayed.       ar  \n",
       "4  نشر نادي ليفربول على مواقع التواصل الاجتماعي ف...       ar  "
      ]
     },
     "execution_count": 715,
     "metadata": {},
     "output_type": "execute_result"
    }
   ],
   "source": [
    "from pymongo import MongoClient\n",
    "import os\n",
    "from dotenv import load_dotenv\n",
    "load_dotenv()\n",
    "mongo_uri = os.getenv(\"MONGO_URI\")\n",
    "\n",
    "client = MongoClient(mongo_uri)\n",
    "# Create a new database\n",
    "db = client[\"my_db\"]\n",
    "\n",
    "print(\"Connected to MongoDB!\")\n",
    "\n",
    "\n",
    "import pandas as pd\n",
    "\n",
    "article = db[\"articles\"]\n",
    "user = db[\"users\"]\n",
    "source = db[\"sources\"]\n",
    "\n",
    "docs = article.find()\n",
    "df = pd.DataFrame(list(docs))\n",
    "df.head()"
   ]
  },
  {
   "cell_type": "code",
   "execution_count": 716,
   "id": "a6ad476a-96ab-40ca-a121-841c9657f382",
   "metadata": {},
   "outputs": [
    {
     "name": "stdout",
     "output_type": "stream",
     "text": [
      "There is  7044  articles in the DB\n"
     ]
    }
   ],
   "source": [
    "print(\"There is \",len(df), \" articles in the DB\")"
   ]
  },
  {
   "cell_type": "code",
   "execution_count": 717,
   "id": "643a92de-06f4-4302-a807-05c0dc99d9e4",
   "metadata": {},
   "outputs": [
    {
     "name": "stdout",
     "output_type": "stream",
     "text": [
      "There is  6601  articles from mayadeen\n"
     ]
    }
   ],
   "source": [
    "mayadeen_df = df[df['source_id'] == mayadeen_id]\n",
    "print(\"There is \",len(mayadeen_df), \" articles from mayadeen\")\n",
    "#apparently there is a major problem in th source IDs"
   ]
  },
  {
   "cell_type": "code",
   "execution_count": 718,
   "id": "35b9fd10-f24e-4c1c-ae9f-0be624e7a833",
   "metadata": {},
   "outputs": [
    {
     "name": "stdout",
     "output_type": "stream",
     "text": [
      "There is  131  articles from manar\n"
     ]
    }
   ],
   "source": [
    "manar_df = df[df['source_id'] == manar_id]\n",
    "print(\"There is \",len(manar_df), \" articles from manar\")"
   ]
  },
  {
   "cell_type": "code",
   "execution_count": 719,
   "id": "b0fb00cc-980e-49ee-be4e-e9297392eb34",
   "metadata": {},
   "outputs": [
    {
     "name": "stdout",
     "output_type": "stream",
     "text": [
      "There is  92  articles from mtv\n"
     ]
    }
   ],
   "source": [
    "mtv_df = df[df['source_id'] == mtv_id]\n",
    "print(\"There is \",len(mtv_df), \" articles from mtv\")"
   ]
  },
  {
   "cell_type": "code",
   "execution_count": 720,
   "id": "64d6494e-7f7a-42cb-ae24-814422a075e0",
   "metadata": {},
   "outputs": [
    {
     "name": "stdout",
     "output_type": "stream",
     "text": [
      "There is  131  articles from jadeed\n"
     ]
    }
   ],
   "source": [
    "jadeed_df = df[df['source_id'] == jadeed_id]\n",
    "print(\"There is \",len(jadeed_df), \" articles from jadeed\")"
   ]
  },
  {
   "cell_type": "code",
   "execution_count": 721,
   "id": "278ab9d2-e9bc-4d52-a20c-66da04fd2041",
   "metadata": {},
   "outputs": [
    {
     "name": "stdout",
     "output_type": "stream",
     "text": [
      "There is  89  articles from annahar\n"
     ]
    }
   ],
   "source": [
    "annahar_df = df[df['source_id'] == annahar_id]\n",
    "print(\"There is \",len(annahar_df), \" articles from annahar\")"
   ]
  },
  {
   "cell_type": "code",
   "execution_count": 722,
   "id": "5b4e1f25-340a-483e-ae13-8454c28485b5",
   "metadata": {},
   "outputs": [
    {
     "data": {
      "text/plain": [
       "True"
      ]
     },
     "execution_count": 722,
     "metadata": {},
     "output_type": "execute_result"
    }
   ],
   "source": [
    "#checking for duplicate news\n",
    "df.url.is_unique"
   ]
  },
  {
   "cell_type": "code",
   "execution_count": 723,
   "id": "c74ce4cd-2a8d-4ef8-af08-62a434ef5390",
   "metadata": {},
   "outputs": [
    {
     "data": {
      "text/plain": [
       "_id               0\n",
       "created_at        0\n",
       "updated_at        0\n",
       "uuid            118\n",
       "source_id         0\n",
       "url               0\n",
       "publish_date      0\n",
       "title             0\n",
       "content           0\n",
       "language          0\n",
       "dtype: int64"
      ]
     },
     "execution_count": 723,
     "metadata": {},
     "output_type": "execute_result"
    }
   ],
   "source": [
    "#checking for empty slots\n",
    "df.isna().sum()"
   ]
  },
  {
   "cell_type": "code",
   "execution_count": 724,
   "id": "e00e0e2e-64f0-43b7-84e3-a791ed6d7dfc",
   "metadata": {},
   "outputs": [
    {
     "data": {
      "text/html": [
       "<div>\n",
       "<style scoped>\n",
       "    .dataframe tbody tr th:only-of-type {\n",
       "        vertical-align: middle;\n",
       "    }\n",
       "\n",
       "    .dataframe tbody tr th {\n",
       "        vertical-align: top;\n",
       "    }\n",
       "\n",
       "    .dataframe thead th {\n",
       "        text-align: right;\n",
       "    }\n",
       "</style>\n",
       "<table border=\"1\" class=\"dataframe\">\n",
       "  <thead>\n",
       "    <tr style=\"text-align: right;\">\n",
       "      <th></th>\n",
       "      <th>_id</th>\n",
       "      <th>created_at</th>\n",
       "      <th>updated_at</th>\n",
       "      <th>uuid</th>\n",
       "      <th>source_id</th>\n",
       "      <th>url</th>\n",
       "      <th>publish_date</th>\n",
       "      <th>title</th>\n",
       "      <th>content</th>\n",
       "      <th>language</th>\n",
       "    </tr>\n",
       "  </thead>\n",
       "  <tbody>\n",
       "    <tr>\n",
       "      <th>49</th>\n",
       "      <td>680f65ebd24b08b0b7ce835b</td>\n",
       "      <td>2025-04-28 11:26:35.452</td>\n",
       "      <td>2025-04-28 11:31:00.921</td>\n",
       "      <td>b'8\\xe4\\xc0\\xe71xA\\xbd\\xafwc\\x87\\xbe\\xcb\"\\x02'</td>\n",
       "      <td>b'\\x83\\x10\\xfb\\x18D L\\xac\\x930\\x9b\\x17\\x8b\\x82...</td>\n",
       "      <td>https://mdn.tv/8QgZ</td>\n",
       "      <td>2025-04-28 09:00:00</td>\n",
       "      <td>نشرة الثانية عشرة</td>\n",
       "      <td></td>\n",
       "      <td>unknown</td>\n",
       "    </tr>\n",
       "    <tr>\n",
       "      <th>126</th>\n",
       "      <td>680f8588d24b08b0b7ce9574</td>\n",
       "      <td>2025-04-28 13:41:28.971</td>\n",
       "      <td>2025-04-28 13:46:15.618</td>\n",
       "      <td>b'}`\\xec*/ODv\\xa8\\x03Z\\xd5\\xdd\\x85\\x8a\\xb6'</td>\n",
       "      <td>b'\\x83\\x10\\xfb\\x18D L\\xac\\x930\\x9b\\x17\\x8b\\x82...</td>\n",
       "      <td>https://mdn.tv/8Qhu</td>\n",
       "      <td>2025-04-28 13:38:59</td>\n",
       "      <td>الرئاسة السورية ترفض مخرجات مؤتمر توحيد الموقف...</td>\n",
       "      <td></td>\n",
       "      <td>unknown</td>\n",
       "    </tr>\n",
       "  </tbody>\n",
       "</table>\n",
       "</div>"
      ],
      "text/plain": [
       "                          _id              created_at              updated_at  \\\n",
       "49   680f65ebd24b08b0b7ce835b 2025-04-28 11:26:35.452 2025-04-28 11:31:00.921   \n",
       "126  680f8588d24b08b0b7ce9574 2025-04-28 13:41:28.971 2025-04-28 13:46:15.618   \n",
       "\n",
       "                                               uuid  \\\n",
       "49   b'8\\xe4\\xc0\\xe71xA\\xbd\\xafwc\\x87\\xbe\\xcb\"\\x02'   \n",
       "126     b'}`\\xec*/ODv\\xa8\\x03Z\\xd5\\xdd\\x85\\x8a\\xb6'   \n",
       "\n",
       "                                             source_id                  url  \\\n",
       "49   b'\\x83\\x10\\xfb\\x18D L\\xac\\x930\\x9b\\x17\\x8b\\x82...  https://mdn.tv/8QgZ   \n",
       "126  b'\\x83\\x10\\xfb\\x18D L\\xac\\x930\\x9b\\x17\\x8b\\x82...  https://mdn.tv/8Qhu   \n",
       "\n",
       "           publish_date                                              title  \\\n",
       "49  2025-04-28 09:00:00                                  نشرة الثانية عشرة   \n",
       "126 2025-04-28 13:38:59  الرئاسة السورية ترفض مخرجات مؤتمر توحيد الموقف...   \n",
       "\n",
       "    content language  \n",
       "49           unknown  \n",
       "126          unknown  "
      ]
     },
     "execution_count": 724,
     "metadata": {},
     "output_type": "execute_result"
    }
   ],
   "source": [
    "#we can check for where the language is unknown\n",
    "df[df['language'] == 'unknown'].head(2)\n",
    "#notice that the content is empty could be some rapid news or something or video"
   ]
  },
  {
   "cell_type": "code",
   "execution_count": 725,
   "id": "a6fe0688-b0c1-4e0f-b588-cc18236fc343",
   "metadata": {
    "scrolled": true
   },
   "outputs": [
    {
     "data": {
      "text/html": [
       "<div>\n",
       "<style scoped>\n",
       "    .dataframe tbody tr th:only-of-type {\n",
       "        vertical-align: middle;\n",
       "    }\n",
       "\n",
       "    .dataframe tbody tr th {\n",
       "        vertical-align: top;\n",
       "    }\n",
       "\n",
       "    .dataframe thead th {\n",
       "        text-align: right;\n",
       "    }\n",
       "</style>\n",
       "<table border=\"1\" class=\"dataframe\">\n",
       "  <thead>\n",
       "    <tr style=\"text-align: right;\">\n",
       "      <th></th>\n",
       "      <th>_id</th>\n",
       "      <th>created_at</th>\n",
       "      <th>updated_at</th>\n",
       "      <th>uuid</th>\n",
       "      <th>source_id</th>\n",
       "      <th>url</th>\n",
       "      <th>publish_date</th>\n",
       "      <th>title</th>\n",
       "      <th>content</th>\n",
       "      <th>language</th>\n",
       "    </tr>\n",
       "  </thead>\n",
       "  <tbody>\n",
       "    <tr>\n",
       "      <th>1</th>\n",
       "      <td>680e7428d6ed6d0d4643c766</td>\n",
       "      <td>2025-04-27 18:15:03.869</td>\n",
       "      <td>2025-04-27 18:15:04.988</td>\n",
       "      <td>b'iZ\\x87\\x7f~mIQ\\x90\\xce\\xaa\\x91\\x8d\\xa8\\x83\\xd2'</td>\n",
       "      <td>b'\\x00\\x00\\x00\\x00\\x00\\x00\\x00\\x00\\x00\\x00\\x00...</td>\n",
       "      <td>https://www.aljadeed.tv/news/%d8%ae%d8%a7%d8%b...</td>\n",
       "      <td>2025-04-27 18:12:29</td>\n",
       "      <td>حسين أيوب لـ &amp;quot;وهلق شو&amp;quot;: الحزب لم يتخ...</td>\n",
       "      <td>No content to be displayed.</td>\n",
       "      <td>ar</td>\n",
       "    </tr>\n",
       "    <tr>\n",
       "      <th>2</th>\n",
       "      <td>680e742ad6ed6d0d4643c767</td>\n",
       "      <td>2025-04-27 18:15:03.837</td>\n",
       "      <td>2025-04-27 18:15:06.929</td>\n",
       "      <td>b'\\xa1\\xe3\\x98\\\\CPH\\x1b\\x86`\\x7f\\xf6T\\xb4\\xf1d'</td>\n",
       "      <td>b'\\x00\\x00\\x00\\x00\\x00\\x00\\x00\\x00\\x00\\x00\\x00...</td>\n",
       "      <td>https://almanar.com.lb/13415448</td>\n",
       "      <td>2025-04-27 18:13:47</td>\n",
       "      <td>جيش الاحتلال ينسف عدداً من المباني في رفح جنوب...</td>\n",
       "      <td>No content to be displayed.</td>\n",
       "      <td>ar</td>\n",
       "    </tr>\n",
       "    <tr>\n",
       "      <th>3</th>\n",
       "      <td>680eae853258ace5920ca46f</td>\n",
       "      <td>2025-04-27 22:24:02.965</td>\n",
       "      <td>2025-04-27 22:24:05.803</td>\n",
       "      <td>b'\\x9c\\xb75s\\xc1\\xacN;\\xb5\\x90\\x0em\\xeaz\\x8e\\xad'</td>\n",
       "      <td>b'\\x00\\x00\\x00\\x00\\x00\\x00\\x00\\x00\\x00\\x00\\x00...</td>\n",
       "      <td>https://almanar.com.lb/13416119</td>\n",
       "      <td>2025-04-27 22:20:44</td>\n",
       "      <td>طيران الاحتلال يشن غارة شمال مخيم النصيرات وسط...</td>\n",
       "      <td>No content to be displayed.</td>\n",
       "      <td>ar</td>\n",
       "    </tr>\n",
       "    <tr>\n",
       "      <th>5</th>\n",
       "      <td>680f0b5b70af0940b79444d9</td>\n",
       "      <td>2025-04-28 05:00:10.199</td>\n",
       "      <td>2025-04-28 05:00:11.534</td>\n",
       "      <td>b'\\xe7\\x13\\xb4\\xae\\xb5\\xbeA\\x8a\\xa0\\xd2\\xd8Z\\x...</td>\n",
       "      <td>b'\\x00\\x00\\x00\\x00\\x00\\x00\\x00\\x00\\x00\\x00\\x00...</td>\n",
       "      <td>http://mtv.com.lb/News/1568876</td>\n",
       "      <td>2025-04-28 07:31:00</td>\n",
       "      <td>استهداف أكثر من 800 موقع للحوثيين منذ آذار</td>\n",
       "      <td>No content to be displayed.</td>\n",
       "      <td>ar</td>\n",
       "    </tr>\n",
       "    <tr>\n",
       "      <th>6</th>\n",
       "      <td>680f0b5c70af0940b79444dc</td>\n",
       "      <td>2025-04-28 05:00:10.199</td>\n",
       "      <td>2025-04-28 05:00:12.057</td>\n",
       "      <td>b'dyD\\xed\\xd6\\x97Au\\x99\\xe2a\\x86\\xea\\\\-s'</td>\n",
       "      <td>b'\\x00\\x00\\x00\\x00\\x00\\x00\\x00\\x00\\x00\\x00\\x00...</td>\n",
       "      <td>http://mtv.com.lb/News/1568877</td>\n",
       "      <td>2025-04-28 07:34:00</td>\n",
       "      <td>عمليّة طعن داخل مدرسة</td>\n",
       "      <td>No content to be displayed.</td>\n",
       "      <td>ar</td>\n",
       "    </tr>\n",
       "    <tr>\n",
       "      <th>...</th>\n",
       "      <td>...</td>\n",
       "      <td>...</td>\n",
       "      <td>...</td>\n",
       "      <td>...</td>\n",
       "      <td>...</td>\n",
       "      <td>...</td>\n",
       "      <td>...</td>\n",
       "      <td>...</td>\n",
       "      <td>...</td>\n",
       "      <td>...</td>\n",
       "    </tr>\n",
       "    <tr>\n",
       "      <th>7039</th>\n",
       "      <td>680e018cd6ed6d0d4643c622</td>\n",
       "      <td>2025-04-27 10:06:03.533</td>\n",
       "      <td>2025-04-27 10:06:04.381</td>\n",
       "      <td>b'\\xba\\xaf\\xa8[6\\xf2L\\xf2\\xb6\\x96\\x1f\\xfc?\\x9b...</td>\n",
       "      <td>b'\\x83\\x10\\xfb\\x18D L\\xac\\x930\\x9b\\x17\\x8b\\x82...</td>\n",
       "      <td>http://mtv.com.lb/News/1568714</td>\n",
       "      <td>2025-04-27 13:04:00</td>\n",
       "      <td>تدابير سير على أوتوستراد جبيل بسبب أعمال تزفيت</td>\n",
       "      <td>No content to be displayed.</td>\n",
       "      <td>ar</td>\n",
       "    </tr>\n",
       "    <tr>\n",
       "      <th>7040</th>\n",
       "      <td>680dedded6ed6d0d4643c5ec</td>\n",
       "      <td>2025-04-27 08:42:05.269</td>\n",
       "      <td>2025-04-27 08:42:06.423</td>\n",
       "      <td>b'c\\x84\\xca\\xa1\\xcbHO)\\x86\\xaa\\xf4\\x16\\xa6\\xd2...</td>\n",
       "      <td>b'\\x83\\x10\\xfb\\x18D L\\xac\\x930\\x9b\\x17\\x8b\\x82...</td>\n",
       "      <td>http://mtv.com.lb/News/1568702</td>\n",
       "      <td>2025-04-27 11:40:00</td>\n",
       "      <td>الصادق: جملة من العوامل تستدعي التفكير الجدي ب...</td>\n",
       "      <td>No content to be displayed.</td>\n",
       "      <td>ar</td>\n",
       "    </tr>\n",
       "    <tr>\n",
       "      <th>7041</th>\n",
       "      <td>680e0242d6ed6d0d4643c624</td>\n",
       "      <td>2025-04-27 10:09:04.608</td>\n",
       "      <td>2025-04-27 10:09:06.408</td>\n",
       "      <td>b'\\xfeTv\\xa3\\xf1\\xb1FQ\\xb0AMu\\x92\\xc3a\\x83'</td>\n",
       "      <td>b'\\x83\\x10\\xfb\\x18D L\\xac\\x930\\x9b\\x17\\x8b\\x82...</td>\n",
       "      <td>https://www.aljadeed.tv/news/%d8%b9%d8%b1%d8%a...</td>\n",
       "      <td>2025-04-27 10:08:30</td>\n",
       "      <td>وزارة الدفاع الإيرانية: لا وجود لشحنات عسكرية ...</td>\n",
       "      <td>No content to be displayed.</td>\n",
       "      <td>ar</td>\n",
       "    </tr>\n",
       "    <tr>\n",
       "      <th>7042</th>\n",
       "      <td>680e0243d6ed6d0d4643c625</td>\n",
       "      <td>2025-04-27 10:09:05.391</td>\n",
       "      <td>2025-04-27 10:09:07.044</td>\n",
       "      <td>b'\\x86\\x8b\\x0e\\xff\\x8d\\xa6H\\xbc\\x8e\\xb0 \\x0f\\x...</td>\n",
       "      <td>b'\\x83\\x10\\xfb\\x18D L\\xac\\x930\\x9b\\x17\\x8b\\x82...</td>\n",
       "      <td>http://mtv.com.lb/News/1568715</td>\n",
       "      <td>2025-04-27 13:07:00</td>\n",
       "      <td>الجيش: توقيف 4 مواطنين وهذا ما ضُبط</td>\n",
       "      <td>No content to be displayed.</td>\n",
       "      <td>ar</td>\n",
       "    </tr>\n",
       "    <tr>\n",
       "      <th>7043</th>\n",
       "      <td>680e1fcfd6ed6d0d4643c66f</td>\n",
       "      <td>2025-04-27 12:15:09.802</td>\n",
       "      <td>2025-04-27 12:15:11.241</td>\n",
       "      <td>b'\\x00N\\xdd\\x1fQ\\x88K&gt;\\x8e1\\xa5\\xb75\\x9d\\xa1f'</td>\n",
       "      <td>b'\\x83\\x10\\xfb\\x18D L\\xac\\x930\\x9b\\x17\\x8b\\x82...</td>\n",
       "      <td>http://mtv.com.lb/News/1568747</td>\n",
       "      <td>2025-04-27 15:11:00</td>\n",
       "      <td>\"قد يخرج عن السيطرة\"... قمر روسي نووي يُرعب أم...</td>\n",
       "      <td>No content to be displayed.</td>\n",
       "      <td>ar</td>\n",
       "    </tr>\n",
       "  </tbody>\n",
       "</table>\n",
       "<p>3472 rows × 10 columns</p>\n",
       "</div>"
      ],
      "text/plain": [
       "                           _id              created_at  \\\n",
       "1     680e7428d6ed6d0d4643c766 2025-04-27 18:15:03.869   \n",
       "2     680e742ad6ed6d0d4643c767 2025-04-27 18:15:03.837   \n",
       "3     680eae853258ace5920ca46f 2025-04-27 22:24:02.965   \n",
       "5     680f0b5b70af0940b79444d9 2025-04-28 05:00:10.199   \n",
       "6     680f0b5c70af0940b79444dc 2025-04-28 05:00:10.199   \n",
       "...                        ...                     ...   \n",
       "7039  680e018cd6ed6d0d4643c622 2025-04-27 10:06:03.533   \n",
       "7040  680dedded6ed6d0d4643c5ec 2025-04-27 08:42:05.269   \n",
       "7041  680e0242d6ed6d0d4643c624 2025-04-27 10:09:04.608   \n",
       "7042  680e0243d6ed6d0d4643c625 2025-04-27 10:09:05.391   \n",
       "7043  680e1fcfd6ed6d0d4643c66f 2025-04-27 12:15:09.802   \n",
       "\n",
       "                  updated_at  \\\n",
       "1    2025-04-27 18:15:04.988   \n",
       "2    2025-04-27 18:15:06.929   \n",
       "3    2025-04-27 22:24:05.803   \n",
       "5    2025-04-28 05:00:11.534   \n",
       "6    2025-04-28 05:00:12.057   \n",
       "...                      ...   \n",
       "7039 2025-04-27 10:06:04.381   \n",
       "7040 2025-04-27 08:42:06.423   \n",
       "7041 2025-04-27 10:09:06.408   \n",
       "7042 2025-04-27 10:09:07.044   \n",
       "7043 2025-04-27 12:15:11.241   \n",
       "\n",
       "                                                   uuid  \\\n",
       "1     b'iZ\\x87\\x7f~mIQ\\x90\\xce\\xaa\\x91\\x8d\\xa8\\x83\\xd2'   \n",
       "2       b'\\xa1\\xe3\\x98\\\\CPH\\x1b\\x86`\\x7f\\xf6T\\xb4\\xf1d'   \n",
       "3     b'\\x9c\\xb75s\\xc1\\xacN;\\xb5\\x90\\x0em\\xeaz\\x8e\\xad'   \n",
       "5     b'\\xe7\\x13\\xb4\\xae\\xb5\\xbeA\\x8a\\xa0\\xd2\\xd8Z\\x...   \n",
       "6             b'dyD\\xed\\xd6\\x97Au\\x99\\xe2a\\x86\\xea\\\\-s'   \n",
       "...                                                 ...   \n",
       "7039  b'\\xba\\xaf\\xa8[6\\xf2L\\xf2\\xb6\\x96\\x1f\\xfc?\\x9b...   \n",
       "7040  b'c\\x84\\xca\\xa1\\xcbHO)\\x86\\xaa\\xf4\\x16\\xa6\\xd2...   \n",
       "7041        b'\\xfeTv\\xa3\\xf1\\xb1FQ\\xb0AMu\\x92\\xc3a\\x83'   \n",
       "7042  b'\\x86\\x8b\\x0e\\xff\\x8d\\xa6H\\xbc\\x8e\\xb0 \\x0f\\x...   \n",
       "7043     b'\\x00N\\xdd\\x1fQ\\x88K>\\x8e1\\xa5\\xb75\\x9d\\xa1f'   \n",
       "\n",
       "                                              source_id  \\\n",
       "1     b'\\x00\\x00\\x00\\x00\\x00\\x00\\x00\\x00\\x00\\x00\\x00...   \n",
       "2     b'\\x00\\x00\\x00\\x00\\x00\\x00\\x00\\x00\\x00\\x00\\x00...   \n",
       "3     b'\\x00\\x00\\x00\\x00\\x00\\x00\\x00\\x00\\x00\\x00\\x00...   \n",
       "5     b'\\x00\\x00\\x00\\x00\\x00\\x00\\x00\\x00\\x00\\x00\\x00...   \n",
       "6     b'\\x00\\x00\\x00\\x00\\x00\\x00\\x00\\x00\\x00\\x00\\x00...   \n",
       "...                                                 ...   \n",
       "7039  b'\\x83\\x10\\xfb\\x18D L\\xac\\x930\\x9b\\x17\\x8b\\x82...   \n",
       "7040  b'\\x83\\x10\\xfb\\x18D L\\xac\\x930\\x9b\\x17\\x8b\\x82...   \n",
       "7041  b'\\x83\\x10\\xfb\\x18D L\\xac\\x930\\x9b\\x17\\x8b\\x82...   \n",
       "7042  b'\\x83\\x10\\xfb\\x18D L\\xac\\x930\\x9b\\x17\\x8b\\x82...   \n",
       "7043  b'\\x83\\x10\\xfb\\x18D L\\xac\\x930\\x9b\\x17\\x8b\\x82...   \n",
       "\n",
       "                                                    url        publish_date  \\\n",
       "1     https://www.aljadeed.tv/news/%d8%ae%d8%a7%d8%b... 2025-04-27 18:12:29   \n",
       "2                       https://almanar.com.lb/13415448 2025-04-27 18:13:47   \n",
       "3                       https://almanar.com.lb/13416119 2025-04-27 22:20:44   \n",
       "5                        http://mtv.com.lb/News/1568876 2025-04-28 07:31:00   \n",
       "6                        http://mtv.com.lb/News/1568877 2025-04-28 07:34:00   \n",
       "...                                                 ...                 ...   \n",
       "7039                     http://mtv.com.lb/News/1568714 2025-04-27 13:04:00   \n",
       "7040                     http://mtv.com.lb/News/1568702 2025-04-27 11:40:00   \n",
       "7041  https://www.aljadeed.tv/news/%d8%b9%d8%b1%d8%a... 2025-04-27 10:08:30   \n",
       "7042                     http://mtv.com.lb/News/1568715 2025-04-27 13:07:00   \n",
       "7043                     http://mtv.com.lb/News/1568747 2025-04-27 15:11:00   \n",
       "\n",
       "                                                  title  \\\n",
       "1     حسين أيوب لـ &quot;وهلق شو&quot;: الحزب لم يتخ...   \n",
       "2     جيش الاحتلال ينسف عدداً من المباني في رفح جنوب...   \n",
       "3     طيران الاحتلال يشن غارة شمال مخيم النصيرات وسط...   \n",
       "5            استهداف أكثر من 800 موقع للحوثيين منذ آذار   \n",
       "6                                 عمليّة طعن داخل مدرسة   \n",
       "...                                                 ...   \n",
       "7039     تدابير سير على أوتوستراد جبيل بسبب أعمال تزفيت   \n",
       "7040  الصادق: جملة من العوامل تستدعي التفكير الجدي ب...   \n",
       "7041  وزارة الدفاع الإيرانية: لا وجود لشحنات عسكرية ...   \n",
       "7042                الجيش: توقيف 4 مواطنين وهذا ما ضُبط   \n",
       "7043  \"قد يخرج عن السيطرة\"... قمر روسي نووي يُرعب أم...   \n",
       "\n",
       "                          content language  \n",
       "1     No content to be displayed.       ar  \n",
       "2     No content to be displayed.       ar  \n",
       "3     No content to be displayed.       ar  \n",
       "5     No content to be displayed.       ar  \n",
       "6     No content to be displayed.       ar  \n",
       "...                           ...      ...  \n",
       "7039  No content to be displayed.       ar  \n",
       "7040  No content to be displayed.       ar  \n",
       "7041  No content to be displayed.       ar  \n",
       "7042  No content to be displayed.       ar  \n",
       "7043  No content to be displayed.       ar  \n",
       "\n",
       "[3472 rows x 10 columns]"
      ]
     },
     "execution_count": 725,
     "metadata": {},
     "output_type": "execute_result"
    }
   ],
   "source": [
    "#checking for empty content:\n",
    "df[(df['content'] == ' ') | (df['content']== 'No content to be displayed.')]"
   ]
  },
  {
   "cell_type": "markdown",
   "id": "9934d09d-8d1d-4bd2-9dde-02e14c4220ca",
   "metadata": {},
   "source": [
    "## we can plot which sources have the most empty contents\n",
    "### but 1606 news out of 3300 is A LOT"
   ]
  },
  {
   "cell_type": "markdown",
   "id": "f8b82e09-d6af-4ab7-ab57-28d35c9374ad",
   "metadata": {},
   "source": [
    "### we need to first group them by days i.e. get all of the number of articles that are uploaded in this day"
   ]
  },
  {
   "cell_type": "code",
   "execution_count": 728,
   "id": "758a81a1-50f0-41d1-b697-281e291ace56",
   "metadata": {},
   "outputs": [],
   "source": [
    "import datetime\n",
    "#we'll have a list of the corresponding news article\n",
    "news_list_dict = ['mayadeen', 'annahar', 'mtv', 'jadeed', 'manar']\n",
    "#now we need to establish the corresponding frequencies"
   ]
  },
  {
   "cell_type": "code",
   "execution_count": 729,
   "id": "b3e8e337-7c43-4272-8d4a-0b6c36e199fb",
   "metadata": {
    "scrolled": true
   },
   "outputs": [
    {
     "data": {
      "text/html": [
       "<div>\n",
       "<style scoped>\n",
       "    .dataframe tbody tr th:only-of-type {\n",
       "        vertical-align: middle;\n",
       "    }\n",
       "\n",
       "    .dataframe tbody tr th {\n",
       "        vertical-align: top;\n",
       "    }\n",
       "\n",
       "    .dataframe thead th {\n",
       "        text-align: right;\n",
       "    }\n",
       "</style>\n",
       "<table border=\"1\" class=\"dataframe\">\n",
       "  <thead>\n",
       "    <tr style=\"text-align: right;\">\n",
       "      <th></th>\n",
       "      <th>_id</th>\n",
       "      <th>created_at</th>\n",
       "      <th>updated_at</th>\n",
       "      <th>uuid</th>\n",
       "      <th>source_id</th>\n",
       "      <th>url</th>\n",
       "      <th>publish_date</th>\n",
       "      <th>title</th>\n",
       "      <th>content</th>\n",
       "      <th>language</th>\n",
       "    </tr>\n",
       "  </thead>\n",
       "  <tbody>\n",
       "    <tr>\n",
       "      <th>26</th>\n",
       "      <td>680f0b3ad24b08b0b7ce4fc5</td>\n",
       "      <td>2025-04-28 04:59:38.970</td>\n",
       "      <td>2025-04-28 05:04:08.173</td>\n",
       "      <td>b'\\xab!\\x8a\\xc2\\r\\x02L\\xfd\\x9f\\xb8\\xfa\\xbdP\\xf...</td>\n",
       "      <td>b'\\x83\\x10\\xfb\\x18D L\\xac\\x930\\x9b\\x17\\x8b\\x82...</td>\n",
       "      <td>https://mdn.tv/8QfB</td>\n",
       "      <td>2025-04-28 04:55:15</td>\n",
       "      <td>اليمن: عشرات الشهداء والجرحى في عدوان أميركي ا...</td>\n",
       "      <td>أفاد مراسل الميادين في اليمن، بارتقاء عدد من ا...</td>\n",
       "      <td>ar</td>\n",
       "    </tr>\n",
       "    <tr>\n",
       "      <th>36</th>\n",
       "      <td>680f1eecd24b08b0b7ce5b1b</td>\n",
       "      <td>2025-04-28 06:23:40.876</td>\n",
       "      <td>2025-04-28 06:29:01.366</td>\n",
       "      <td>b'&lt;8[\\x9b\\xe5\\xbaC\\xaf\\xac\\xf5l\\x95?\\x84\\x18C'</td>\n",
       "      <td>b'\\x83\\x10\\xfb\\x18D L\\xac\\x930\\x9b\\x17\\x8b\\x82...</td>\n",
       "      <td>https://mdn.tv/8QfW</td>\n",
       "      <td>2025-04-28 06:19:43</td>\n",
       "      <td>الصين: مستعدون لمناقشة الرسوم الجمركية وننتظر ...</td>\n",
       "      <td>أكّد مبعوث الصين الدائم لدى مكتب الأمم المتحدة...</td>\n",
       "      <td>ar</td>\n",
       "    </tr>\n",
       "    <tr>\n",
       "      <th>43</th>\n",
       "      <td>680f6fcfd24b08b0b7ce890c</td>\n",
       "      <td>2025-04-28 12:08:47.131</td>\n",
       "      <td>2025-04-28 12:13:22.919</td>\n",
       "      <td>b'\\xb6h\\xb0{\\xe9\\x04I\\xce\\xbc4_\\x96\\xf9^V\\x1f'</td>\n",
       "      <td>b'\\x83\\x10\\xfb\\x18D L\\xac\\x930\\x9b\\x17\\x8b\\x82...</td>\n",
       "      <td>https://mdn.tv/8QhD</td>\n",
       "      <td>2025-04-28 12:08:33</td>\n",
       "      <td>بوتين يعلن هدنة مؤقتة مع أوكرانيا بمناسبة ذكرى...</td>\n",
       "      <td>أعلن الرئيس الروسي، فلاديمير بوتين، اليوم الاث...</td>\n",
       "      <td>ar</td>\n",
       "    </tr>\n",
       "    <tr>\n",
       "      <th>49</th>\n",
       "      <td>680f65ebd24b08b0b7ce835b</td>\n",
       "      <td>2025-04-28 11:26:35.452</td>\n",
       "      <td>2025-04-28 11:31:00.921</td>\n",
       "      <td>b'8\\xe4\\xc0\\xe71xA\\xbd\\xafwc\\x87\\xbe\\xcb\"\\x02'</td>\n",
       "      <td>b'\\x83\\x10\\xfb\\x18D L\\xac\\x930\\x9b\\x17\\x8b\\x82...</td>\n",
       "      <td>https://mdn.tv/8QgZ</td>\n",
       "      <td>2025-04-28 09:00:00</td>\n",
       "      <td>نشرة الثانية عشرة</td>\n",
       "      <td></td>\n",
       "      <td>unknown</td>\n",
       "    </tr>\n",
       "    <tr>\n",
       "      <th>56</th>\n",
       "      <td>680fa28982d46bc66b4ddd22</td>\n",
       "      <td>2025-04-28 15:45:13.899</td>\n",
       "      <td>2025-04-28 15:51:02.554</td>\n",
       "      <td>b'A}v\\xad\\x18bDW\\xb1\\xb1J\\xb5\\xe5\\x96\\x1f\\xd1'</td>\n",
       "      <td>b'\\x83\\x10\\xfb\\x18D L\\xac\\x930\\x9b\\x17\\x8b\\x82...</td>\n",
       "      <td>https://mdn.tv/8QiL</td>\n",
       "      <td>2025-04-28 15:35:43</td>\n",
       "      <td>وزير الدفاع الباكستاني يحذر: التوغل العسكري ال...</td>\n",
       "      <td>نقلت وكالة \"رويترز\"، عن وزير الدفاع الباكستاني...</td>\n",
       "      <td>ar</td>\n",
       "    </tr>\n",
       "    <tr>\n",
       "      <th>...</th>\n",
       "      <td>...</td>\n",
       "      <td>...</td>\n",
       "      <td>...</td>\n",
       "      <td>...</td>\n",
       "      <td>...</td>\n",
       "      <td>...</td>\n",
       "      <td>...</td>\n",
       "      <td>...</td>\n",
       "      <td>...</td>\n",
       "      <td>...</td>\n",
       "    </tr>\n",
       "    <tr>\n",
       "      <th>596</th>\n",
       "      <td>680f475ed24b08b0b7ce718f</td>\n",
       "      <td>2025-04-28 09:16:14.607</td>\n",
       "      <td>2025-04-28 09:20:15.610</td>\n",
       "      <td>b')Q\\x04\\xf7\\x89\\xbfM\\xc0\\xa2\\x04i\\x86\\x1f&lt;:Q'</td>\n",
       "      <td>b'\\x83\\x10\\xfb\\x18D L\\xac\\x930\\x9b\\x17\\x8b\\x82...</td>\n",
       "      <td>https://mdn.tv/8Qg6</td>\n",
       "      <td>2025-04-28 07:00:00</td>\n",
       "      <td>نشرة العاشرة صباحاً</td>\n",
       "      <td></td>\n",
       "      <td>unknown</td>\n",
       "    </tr>\n",
       "    <tr>\n",
       "      <th>598</th>\n",
       "      <td>680f32ded24b08b0b7ce6636</td>\n",
       "      <td>2025-04-28 07:48:46.132</td>\n",
       "      <td>2025-04-28 07:53:26.219</td>\n",
       "      <td>b'\\x88\\xf3\\x98F\\xe7\\x9eA\\xbf\\x82\\x02b\\xb4\\x88\\...</td>\n",
       "      <td>b'\\x83\\x10\\xfb\\x18D L\\xac\\x930\\x9b\\x17\\x8b\\x82...</td>\n",
       "      <td>https://mdn.tv/8Qfx</td>\n",
       "      <td>2025-04-28 07:46:24</td>\n",
       "      <td>رسوم ترامب الجمركية تؤثر سلباً على الموانئ الأ...</td>\n",
       "      <td>تحدّثت صحيفة \"فايننشال تايمز\" البريطانية، في ت...</td>\n",
       "      <td>ar</td>\n",
       "    </tr>\n",
       "    <tr>\n",
       "      <th>608</th>\n",
       "      <td>680f50dbd24b08b0b7ce7736</td>\n",
       "      <td>2025-04-28 09:56:43.981</td>\n",
       "      <td>2025-04-28 10:01:24.889</td>\n",
       "      <td>b'I\\n\\xebK\\xca\\x1aB\\xdd\\xa4y\\xaf\\xe0\\x93\\xba\\x...</td>\n",
       "      <td>b'\\x83\\x10\\xfb\\x18D L\\xac\\x930\\x9b\\x17\\x8b\\x82...</td>\n",
       "      <td>https://mdn.tv/8QgU</td>\n",
       "      <td>2025-04-28 09:54:25</td>\n",
       "      <td>\"العدل اليمنية\": 1300 بين شهيد وجريح جراء العد...</td>\n",
       "      <td>أعلنت وزارة العدل وحقوق الإنسان اليمنية في صنع...</td>\n",
       "      <td>ar</td>\n",
       "    </tr>\n",
       "    <tr>\n",
       "      <th>613</th>\n",
       "      <td>680f8e9bd24b08b0b7ce9a6e</td>\n",
       "      <td>2025-04-28 14:20:11.571</td>\n",
       "      <td>2025-04-28 14:25:19.896</td>\n",
       "      <td>b'\\xc1\\x81\\xfc\\x97N\\xd1K\\x10\\xa0i\\xe9+\\x10\\xb6...</td>\n",
       "      <td>b'\\x83\\x10\\xfb\\x18D L\\xac\\x930\\x9b\\x17\\x8b\\x82...</td>\n",
       "      <td>https://mdn.tv/8QhW</td>\n",
       "      <td>2025-04-28 14:18:12</td>\n",
       "      <td>السيسي والبرهان يبحثان التطورات في السودان وتق...</td>\n",
       "      <td>بحث الرئيس المصري، عبد الفتاح السيسي، مع رئيس ...</td>\n",
       "      <td>ar</td>\n",
       "    </tr>\n",
       "    <tr>\n",
       "      <th>614</th>\n",
       "      <td>680f8e9fd24b08b0b7ce9a6f</td>\n",
       "      <td>2025-04-28 14:20:15.245</td>\n",
       "      <td>2025-04-28 14:25:21.205</td>\n",
       "      <td>b'\\xe4\\xc8\\x11\\xd5\\x1f\\xa0OR\\x89`\\xa17e\\x1b\\xc0i'</td>\n",
       "      <td>b'\\x83\\x10\\xfb\\x18D L\\xac\\x930\\x9b\\x17\\x8b\\x82...</td>\n",
       "      <td>https://mdn.tv/8QhV</td>\n",
       "      <td>2025-04-28 14:15:25</td>\n",
       "      <td>كشف جديد.. محركات بريطانية تدعم الطائرات القات...</td>\n",
       "      <td>كشف موقع \"دي كلاسيفيد\" البريطاني، أن شركة بريط...</td>\n",
       "      <td>ar</td>\n",
       "    </tr>\n",
       "  </tbody>\n",
       "</table>\n",
       "<p>71 rows × 10 columns</p>\n",
       "</div>"
      ],
      "text/plain": [
       "                          _id              created_at              updated_at  \\\n",
       "26   680f0b3ad24b08b0b7ce4fc5 2025-04-28 04:59:38.970 2025-04-28 05:04:08.173   \n",
       "36   680f1eecd24b08b0b7ce5b1b 2025-04-28 06:23:40.876 2025-04-28 06:29:01.366   \n",
       "43   680f6fcfd24b08b0b7ce890c 2025-04-28 12:08:47.131 2025-04-28 12:13:22.919   \n",
       "49   680f65ebd24b08b0b7ce835b 2025-04-28 11:26:35.452 2025-04-28 11:31:00.921   \n",
       "56   680fa28982d46bc66b4ddd22 2025-04-28 15:45:13.899 2025-04-28 15:51:02.554   \n",
       "..                        ...                     ...                     ...   \n",
       "596  680f475ed24b08b0b7ce718f 2025-04-28 09:16:14.607 2025-04-28 09:20:15.610   \n",
       "598  680f32ded24b08b0b7ce6636 2025-04-28 07:48:46.132 2025-04-28 07:53:26.219   \n",
       "608  680f50dbd24b08b0b7ce7736 2025-04-28 09:56:43.981 2025-04-28 10:01:24.889   \n",
       "613  680f8e9bd24b08b0b7ce9a6e 2025-04-28 14:20:11.571 2025-04-28 14:25:19.896   \n",
       "614  680f8e9fd24b08b0b7ce9a6f 2025-04-28 14:20:15.245 2025-04-28 14:25:21.205   \n",
       "\n",
       "                                                  uuid  \\\n",
       "26   b'\\xab!\\x8a\\xc2\\r\\x02L\\xfd\\x9f\\xb8\\xfa\\xbdP\\xf...   \n",
       "36      b'<8[\\x9b\\xe5\\xbaC\\xaf\\xac\\xf5l\\x95?\\x84\\x18C'   \n",
       "43      b'\\xb6h\\xb0{\\xe9\\x04I\\xce\\xbc4_\\x96\\xf9^V\\x1f'   \n",
       "49      b'8\\xe4\\xc0\\xe71xA\\xbd\\xafwc\\x87\\xbe\\xcb\"\\x02'   \n",
       "56      b'A}v\\xad\\x18bDW\\xb1\\xb1J\\xb5\\xe5\\x96\\x1f\\xd1'   \n",
       "..                                                 ...   \n",
       "596     b')Q\\x04\\xf7\\x89\\xbfM\\xc0\\xa2\\x04i\\x86\\x1f<:Q'   \n",
       "598  b'\\x88\\xf3\\x98F\\xe7\\x9eA\\xbf\\x82\\x02b\\xb4\\x88\\...   \n",
       "608  b'I\\n\\xebK\\xca\\x1aB\\xdd\\xa4y\\xaf\\xe0\\x93\\xba\\x...   \n",
       "613  b'\\xc1\\x81\\xfc\\x97N\\xd1K\\x10\\xa0i\\xe9+\\x10\\xb6...   \n",
       "614  b'\\xe4\\xc8\\x11\\xd5\\x1f\\xa0OR\\x89`\\xa17e\\x1b\\xc0i'   \n",
       "\n",
       "                                             source_id                  url  \\\n",
       "26   b'\\x83\\x10\\xfb\\x18D L\\xac\\x930\\x9b\\x17\\x8b\\x82...  https://mdn.tv/8QfB   \n",
       "36   b'\\x83\\x10\\xfb\\x18D L\\xac\\x930\\x9b\\x17\\x8b\\x82...  https://mdn.tv/8QfW   \n",
       "43   b'\\x83\\x10\\xfb\\x18D L\\xac\\x930\\x9b\\x17\\x8b\\x82...  https://mdn.tv/8QhD   \n",
       "49   b'\\x83\\x10\\xfb\\x18D L\\xac\\x930\\x9b\\x17\\x8b\\x82...  https://mdn.tv/8QgZ   \n",
       "56   b'\\x83\\x10\\xfb\\x18D L\\xac\\x930\\x9b\\x17\\x8b\\x82...  https://mdn.tv/8QiL   \n",
       "..                                                 ...                  ...   \n",
       "596  b'\\x83\\x10\\xfb\\x18D L\\xac\\x930\\x9b\\x17\\x8b\\x82...  https://mdn.tv/8Qg6   \n",
       "598  b'\\x83\\x10\\xfb\\x18D L\\xac\\x930\\x9b\\x17\\x8b\\x82...  https://mdn.tv/8Qfx   \n",
       "608  b'\\x83\\x10\\xfb\\x18D L\\xac\\x930\\x9b\\x17\\x8b\\x82...  https://mdn.tv/8QgU   \n",
       "613  b'\\x83\\x10\\xfb\\x18D L\\xac\\x930\\x9b\\x17\\x8b\\x82...  https://mdn.tv/8QhW   \n",
       "614  b'\\x83\\x10\\xfb\\x18D L\\xac\\x930\\x9b\\x17\\x8b\\x82...  https://mdn.tv/8QhV   \n",
       "\n",
       "           publish_date                                              title  \\\n",
       "26  2025-04-28 04:55:15  اليمن: عشرات الشهداء والجرحى في عدوان أميركي ا...   \n",
       "36  2025-04-28 06:19:43  الصين: مستعدون لمناقشة الرسوم الجمركية وننتظر ...   \n",
       "43  2025-04-28 12:08:33  بوتين يعلن هدنة مؤقتة مع أوكرانيا بمناسبة ذكرى...   \n",
       "49  2025-04-28 09:00:00                                  نشرة الثانية عشرة   \n",
       "56  2025-04-28 15:35:43  وزير الدفاع الباكستاني يحذر: التوغل العسكري ال...   \n",
       "..                  ...                                                ...   \n",
       "596 2025-04-28 07:00:00                                نشرة العاشرة صباحاً   \n",
       "598 2025-04-28 07:46:24  رسوم ترامب الجمركية تؤثر سلباً على الموانئ الأ...   \n",
       "608 2025-04-28 09:54:25  \"العدل اليمنية\": 1300 بين شهيد وجريح جراء العد...   \n",
       "613 2025-04-28 14:18:12  السيسي والبرهان يبحثان التطورات في السودان وتق...   \n",
       "614 2025-04-28 14:15:25  كشف جديد.. محركات بريطانية تدعم الطائرات القات...   \n",
       "\n",
       "                                               content language  \n",
       "26   أفاد مراسل الميادين في اليمن، بارتقاء عدد من ا...       ar  \n",
       "36   أكّد مبعوث الصين الدائم لدى مكتب الأمم المتحدة...       ar  \n",
       "43   أعلن الرئيس الروسي، فلاديمير بوتين، اليوم الاث...       ar  \n",
       "49                                                      unknown  \n",
       "56   نقلت وكالة \"رويترز\"، عن وزير الدفاع الباكستاني...       ar  \n",
       "..                                                 ...      ...  \n",
       "596                                                     unknown  \n",
       "598  تحدّثت صحيفة \"فايننشال تايمز\" البريطانية، في ت...       ar  \n",
       "608  أعلنت وزارة العدل وحقوق الإنسان اليمنية في صنع...       ar  \n",
       "613  بحث الرئيس المصري، عبد الفتاح السيسي، مع رئيس ...       ar  \n",
       "614  كشف موقع \"دي كلاسيفيد\" البريطاني، أن شركة بريط...       ar  \n",
       "\n",
       "[71 rows x 10 columns]"
      ]
     },
     "execution_count": 729,
     "metadata": {},
     "output_type": "execute_result"
    }
   ],
   "source": [
    "mayadeen_df[mayadeen_df['publish_date'] > str(datetime.date.today())]"
   ]
  },
  {
   "cell_type": "code",
   "execution_count": 730,
   "id": "86388710-e183-403f-8f2c-395e5e3574b8",
   "metadata": {
    "scrolled": true
   },
   "outputs": [
    {
     "data": {
      "text/html": [
       "<div>\n",
       "<style scoped>\n",
       "    .dataframe tbody tr th:only-of-type {\n",
       "        vertical-align: middle;\n",
       "    }\n",
       "\n",
       "    .dataframe tbody tr th {\n",
       "        vertical-align: top;\n",
       "    }\n",
       "\n",
       "    .dataframe thead th {\n",
       "        text-align: right;\n",
       "    }\n",
       "</style>\n",
       "<table border=\"1\" class=\"dataframe\">\n",
       "  <thead>\n",
       "    <tr style=\"text-align: right;\">\n",
       "      <th></th>\n",
       "      <th>_id</th>\n",
       "      <th>created_at</th>\n",
       "      <th>updated_at</th>\n",
       "      <th>uuid</th>\n",
       "      <th>source_id</th>\n",
       "      <th>url</th>\n",
       "      <th>publish_date</th>\n",
       "      <th>title</th>\n",
       "      <th>content</th>\n",
       "      <th>language</th>\n",
       "    </tr>\n",
       "  </thead>\n",
       "  <tbody>\n",
       "    <tr>\n",
       "      <th>26</th>\n",
       "      <td>680f0b3ad24b08b0b7ce4fc5</td>\n",
       "      <td>2025-04-28 04:59:38.970</td>\n",
       "      <td>2025-04-28 05:04:08.173</td>\n",
       "      <td>b'\\xab!\\x8a\\xc2\\r\\x02L\\xfd\\x9f\\xb8\\xfa\\xbdP\\xf...</td>\n",
       "      <td>b'\\x83\\x10\\xfb\\x18D L\\xac\\x930\\x9b\\x17\\x8b\\x82...</td>\n",
       "      <td>https://mdn.tv/8QfB</td>\n",
       "      <td>2025-04-28 04:55:15</td>\n",
       "      <td>اليمن: عشرات الشهداء والجرحى في عدوان أميركي ا...</td>\n",
       "      <td>أفاد مراسل الميادين في اليمن، بارتقاء عدد من ا...</td>\n",
       "      <td>ar</td>\n",
       "    </tr>\n",
       "    <tr>\n",
       "      <th>36</th>\n",
       "      <td>680f1eecd24b08b0b7ce5b1b</td>\n",
       "      <td>2025-04-28 06:23:40.876</td>\n",
       "      <td>2025-04-28 06:29:01.366</td>\n",
       "      <td>b'&lt;8[\\x9b\\xe5\\xbaC\\xaf\\xac\\xf5l\\x95?\\x84\\x18C'</td>\n",
       "      <td>b'\\x83\\x10\\xfb\\x18D L\\xac\\x930\\x9b\\x17\\x8b\\x82...</td>\n",
       "      <td>https://mdn.tv/8QfW</td>\n",
       "      <td>2025-04-28 06:19:43</td>\n",
       "      <td>الصين: مستعدون لمناقشة الرسوم الجمركية وننتظر ...</td>\n",
       "      <td>أكّد مبعوث الصين الدائم لدى مكتب الأمم المتحدة...</td>\n",
       "      <td>ar</td>\n",
       "    </tr>\n",
       "    <tr>\n",
       "      <th>43</th>\n",
       "      <td>680f6fcfd24b08b0b7ce890c</td>\n",
       "      <td>2025-04-28 12:08:47.131</td>\n",
       "      <td>2025-04-28 12:13:22.919</td>\n",
       "      <td>b'\\xb6h\\xb0{\\xe9\\x04I\\xce\\xbc4_\\x96\\xf9^V\\x1f'</td>\n",
       "      <td>b'\\x83\\x10\\xfb\\x18D L\\xac\\x930\\x9b\\x17\\x8b\\x82...</td>\n",
       "      <td>https://mdn.tv/8QhD</td>\n",
       "      <td>2025-04-28 12:08:33</td>\n",
       "      <td>بوتين يعلن هدنة مؤقتة مع أوكرانيا بمناسبة ذكرى...</td>\n",
       "      <td>أعلن الرئيس الروسي، فلاديمير بوتين، اليوم الاث...</td>\n",
       "      <td>ar</td>\n",
       "    </tr>\n",
       "    <tr>\n",
       "      <th>49</th>\n",
       "      <td>680f65ebd24b08b0b7ce835b</td>\n",
       "      <td>2025-04-28 11:26:35.452</td>\n",
       "      <td>2025-04-28 11:31:00.921</td>\n",
       "      <td>b'8\\xe4\\xc0\\xe71xA\\xbd\\xafwc\\x87\\xbe\\xcb\"\\x02'</td>\n",
       "      <td>b'\\x83\\x10\\xfb\\x18D L\\xac\\x930\\x9b\\x17\\x8b\\x82...</td>\n",
       "      <td>https://mdn.tv/8QgZ</td>\n",
       "      <td>2025-04-28 09:00:00</td>\n",
       "      <td>نشرة الثانية عشرة</td>\n",
       "      <td></td>\n",
       "      <td>unknown</td>\n",
       "    </tr>\n",
       "    <tr>\n",
       "      <th>56</th>\n",
       "      <td>680fa28982d46bc66b4ddd22</td>\n",
       "      <td>2025-04-28 15:45:13.899</td>\n",
       "      <td>2025-04-28 15:51:02.554</td>\n",
       "      <td>b'A}v\\xad\\x18bDW\\xb1\\xb1J\\xb5\\xe5\\x96\\x1f\\xd1'</td>\n",
       "      <td>b'\\x83\\x10\\xfb\\x18D L\\xac\\x930\\x9b\\x17\\x8b\\x82...</td>\n",
       "      <td>https://mdn.tv/8QiL</td>\n",
       "      <td>2025-04-28 15:35:43</td>\n",
       "      <td>وزير الدفاع الباكستاني يحذر: التوغل العسكري ال...</td>\n",
       "      <td>نقلت وكالة \"رويترز\"، عن وزير الدفاع الباكستاني...</td>\n",
       "      <td>ar</td>\n",
       "    </tr>\n",
       "    <tr>\n",
       "      <th>...</th>\n",
       "      <td>...</td>\n",
       "      <td>...</td>\n",
       "      <td>...</td>\n",
       "      <td>...</td>\n",
       "      <td>...</td>\n",
       "      <td>...</td>\n",
       "      <td>...</td>\n",
       "      <td>...</td>\n",
       "      <td>...</td>\n",
       "      <td>...</td>\n",
       "    </tr>\n",
       "    <tr>\n",
       "      <th>596</th>\n",
       "      <td>680f475ed24b08b0b7ce718f</td>\n",
       "      <td>2025-04-28 09:16:14.607</td>\n",
       "      <td>2025-04-28 09:20:15.610</td>\n",
       "      <td>b')Q\\x04\\xf7\\x89\\xbfM\\xc0\\xa2\\x04i\\x86\\x1f&lt;:Q'</td>\n",
       "      <td>b'\\x83\\x10\\xfb\\x18D L\\xac\\x930\\x9b\\x17\\x8b\\x82...</td>\n",
       "      <td>https://mdn.tv/8Qg6</td>\n",
       "      <td>2025-04-28 07:00:00</td>\n",
       "      <td>نشرة العاشرة صباحاً</td>\n",
       "      <td></td>\n",
       "      <td>unknown</td>\n",
       "    </tr>\n",
       "    <tr>\n",
       "      <th>598</th>\n",
       "      <td>680f32ded24b08b0b7ce6636</td>\n",
       "      <td>2025-04-28 07:48:46.132</td>\n",
       "      <td>2025-04-28 07:53:26.219</td>\n",
       "      <td>b'\\x88\\xf3\\x98F\\xe7\\x9eA\\xbf\\x82\\x02b\\xb4\\x88\\...</td>\n",
       "      <td>b'\\x83\\x10\\xfb\\x18D L\\xac\\x930\\x9b\\x17\\x8b\\x82...</td>\n",
       "      <td>https://mdn.tv/8Qfx</td>\n",
       "      <td>2025-04-28 07:46:24</td>\n",
       "      <td>رسوم ترامب الجمركية تؤثر سلباً على الموانئ الأ...</td>\n",
       "      <td>تحدّثت صحيفة \"فايننشال تايمز\" البريطانية، في ت...</td>\n",
       "      <td>ar</td>\n",
       "    </tr>\n",
       "    <tr>\n",
       "      <th>608</th>\n",
       "      <td>680f50dbd24b08b0b7ce7736</td>\n",
       "      <td>2025-04-28 09:56:43.981</td>\n",
       "      <td>2025-04-28 10:01:24.889</td>\n",
       "      <td>b'I\\n\\xebK\\xca\\x1aB\\xdd\\xa4y\\xaf\\xe0\\x93\\xba\\x...</td>\n",
       "      <td>b'\\x83\\x10\\xfb\\x18D L\\xac\\x930\\x9b\\x17\\x8b\\x82...</td>\n",
       "      <td>https://mdn.tv/8QgU</td>\n",
       "      <td>2025-04-28 09:54:25</td>\n",
       "      <td>\"العدل اليمنية\": 1300 بين شهيد وجريح جراء العد...</td>\n",
       "      <td>أعلنت وزارة العدل وحقوق الإنسان اليمنية في صنع...</td>\n",
       "      <td>ar</td>\n",
       "    </tr>\n",
       "    <tr>\n",
       "      <th>613</th>\n",
       "      <td>680f8e9bd24b08b0b7ce9a6e</td>\n",
       "      <td>2025-04-28 14:20:11.571</td>\n",
       "      <td>2025-04-28 14:25:19.896</td>\n",
       "      <td>b'\\xc1\\x81\\xfc\\x97N\\xd1K\\x10\\xa0i\\xe9+\\x10\\xb6...</td>\n",
       "      <td>b'\\x83\\x10\\xfb\\x18D L\\xac\\x930\\x9b\\x17\\x8b\\x82...</td>\n",
       "      <td>https://mdn.tv/8QhW</td>\n",
       "      <td>2025-04-28 14:18:12</td>\n",
       "      <td>السيسي والبرهان يبحثان التطورات في السودان وتق...</td>\n",
       "      <td>بحث الرئيس المصري، عبد الفتاح السيسي، مع رئيس ...</td>\n",
       "      <td>ar</td>\n",
       "    </tr>\n",
       "    <tr>\n",
       "      <th>614</th>\n",
       "      <td>680f8e9fd24b08b0b7ce9a6f</td>\n",
       "      <td>2025-04-28 14:20:15.245</td>\n",
       "      <td>2025-04-28 14:25:21.205</td>\n",
       "      <td>b'\\xe4\\xc8\\x11\\xd5\\x1f\\xa0OR\\x89`\\xa17e\\x1b\\xc0i'</td>\n",
       "      <td>b'\\x83\\x10\\xfb\\x18D L\\xac\\x930\\x9b\\x17\\x8b\\x82...</td>\n",
       "      <td>https://mdn.tv/8QhV</td>\n",
       "      <td>2025-04-28 14:15:25</td>\n",
       "      <td>كشف جديد.. محركات بريطانية تدعم الطائرات القات...</td>\n",
       "      <td>كشف موقع \"دي كلاسيفيد\" البريطاني، أن شركة بريط...</td>\n",
       "      <td>ar</td>\n",
       "    </tr>\n",
       "  </tbody>\n",
       "</table>\n",
       "<p>71 rows × 10 columns</p>\n",
       "</div>"
      ],
      "text/plain": [
       "                          _id              created_at              updated_at  \\\n",
       "26   680f0b3ad24b08b0b7ce4fc5 2025-04-28 04:59:38.970 2025-04-28 05:04:08.173   \n",
       "36   680f1eecd24b08b0b7ce5b1b 2025-04-28 06:23:40.876 2025-04-28 06:29:01.366   \n",
       "43   680f6fcfd24b08b0b7ce890c 2025-04-28 12:08:47.131 2025-04-28 12:13:22.919   \n",
       "49   680f65ebd24b08b0b7ce835b 2025-04-28 11:26:35.452 2025-04-28 11:31:00.921   \n",
       "56   680fa28982d46bc66b4ddd22 2025-04-28 15:45:13.899 2025-04-28 15:51:02.554   \n",
       "..                        ...                     ...                     ...   \n",
       "596  680f475ed24b08b0b7ce718f 2025-04-28 09:16:14.607 2025-04-28 09:20:15.610   \n",
       "598  680f32ded24b08b0b7ce6636 2025-04-28 07:48:46.132 2025-04-28 07:53:26.219   \n",
       "608  680f50dbd24b08b0b7ce7736 2025-04-28 09:56:43.981 2025-04-28 10:01:24.889   \n",
       "613  680f8e9bd24b08b0b7ce9a6e 2025-04-28 14:20:11.571 2025-04-28 14:25:19.896   \n",
       "614  680f8e9fd24b08b0b7ce9a6f 2025-04-28 14:20:15.245 2025-04-28 14:25:21.205   \n",
       "\n",
       "                                                  uuid  \\\n",
       "26   b'\\xab!\\x8a\\xc2\\r\\x02L\\xfd\\x9f\\xb8\\xfa\\xbdP\\xf...   \n",
       "36      b'<8[\\x9b\\xe5\\xbaC\\xaf\\xac\\xf5l\\x95?\\x84\\x18C'   \n",
       "43      b'\\xb6h\\xb0{\\xe9\\x04I\\xce\\xbc4_\\x96\\xf9^V\\x1f'   \n",
       "49      b'8\\xe4\\xc0\\xe71xA\\xbd\\xafwc\\x87\\xbe\\xcb\"\\x02'   \n",
       "56      b'A}v\\xad\\x18bDW\\xb1\\xb1J\\xb5\\xe5\\x96\\x1f\\xd1'   \n",
       "..                                                 ...   \n",
       "596     b')Q\\x04\\xf7\\x89\\xbfM\\xc0\\xa2\\x04i\\x86\\x1f<:Q'   \n",
       "598  b'\\x88\\xf3\\x98F\\xe7\\x9eA\\xbf\\x82\\x02b\\xb4\\x88\\...   \n",
       "608  b'I\\n\\xebK\\xca\\x1aB\\xdd\\xa4y\\xaf\\xe0\\x93\\xba\\x...   \n",
       "613  b'\\xc1\\x81\\xfc\\x97N\\xd1K\\x10\\xa0i\\xe9+\\x10\\xb6...   \n",
       "614  b'\\xe4\\xc8\\x11\\xd5\\x1f\\xa0OR\\x89`\\xa17e\\x1b\\xc0i'   \n",
       "\n",
       "                                             source_id                  url  \\\n",
       "26   b'\\x83\\x10\\xfb\\x18D L\\xac\\x930\\x9b\\x17\\x8b\\x82...  https://mdn.tv/8QfB   \n",
       "36   b'\\x83\\x10\\xfb\\x18D L\\xac\\x930\\x9b\\x17\\x8b\\x82...  https://mdn.tv/8QfW   \n",
       "43   b'\\x83\\x10\\xfb\\x18D L\\xac\\x930\\x9b\\x17\\x8b\\x82...  https://mdn.tv/8QhD   \n",
       "49   b'\\x83\\x10\\xfb\\x18D L\\xac\\x930\\x9b\\x17\\x8b\\x82...  https://mdn.tv/8QgZ   \n",
       "56   b'\\x83\\x10\\xfb\\x18D L\\xac\\x930\\x9b\\x17\\x8b\\x82...  https://mdn.tv/8QiL   \n",
       "..                                                 ...                  ...   \n",
       "596  b'\\x83\\x10\\xfb\\x18D L\\xac\\x930\\x9b\\x17\\x8b\\x82...  https://mdn.tv/8Qg6   \n",
       "598  b'\\x83\\x10\\xfb\\x18D L\\xac\\x930\\x9b\\x17\\x8b\\x82...  https://mdn.tv/8Qfx   \n",
       "608  b'\\x83\\x10\\xfb\\x18D L\\xac\\x930\\x9b\\x17\\x8b\\x82...  https://mdn.tv/8QgU   \n",
       "613  b'\\x83\\x10\\xfb\\x18D L\\xac\\x930\\x9b\\x17\\x8b\\x82...  https://mdn.tv/8QhW   \n",
       "614  b'\\x83\\x10\\xfb\\x18D L\\xac\\x930\\x9b\\x17\\x8b\\x82...  https://mdn.tv/8QhV   \n",
       "\n",
       "           publish_date                                              title  \\\n",
       "26  2025-04-28 04:55:15  اليمن: عشرات الشهداء والجرحى في عدوان أميركي ا...   \n",
       "36  2025-04-28 06:19:43  الصين: مستعدون لمناقشة الرسوم الجمركية وننتظر ...   \n",
       "43  2025-04-28 12:08:33  بوتين يعلن هدنة مؤقتة مع أوكرانيا بمناسبة ذكرى...   \n",
       "49  2025-04-28 09:00:00                                  نشرة الثانية عشرة   \n",
       "56  2025-04-28 15:35:43  وزير الدفاع الباكستاني يحذر: التوغل العسكري ال...   \n",
       "..                  ...                                                ...   \n",
       "596 2025-04-28 07:00:00                                نشرة العاشرة صباحاً   \n",
       "598 2025-04-28 07:46:24  رسوم ترامب الجمركية تؤثر سلباً على الموانئ الأ...   \n",
       "608 2025-04-28 09:54:25  \"العدل اليمنية\": 1300 بين شهيد وجريح جراء العد...   \n",
       "613 2025-04-28 14:18:12  السيسي والبرهان يبحثان التطورات في السودان وتق...   \n",
       "614 2025-04-28 14:15:25  كشف جديد.. محركات بريطانية تدعم الطائرات القات...   \n",
       "\n",
       "                                               content language  \n",
       "26   أفاد مراسل الميادين في اليمن، بارتقاء عدد من ا...       ar  \n",
       "36   أكّد مبعوث الصين الدائم لدى مكتب الأمم المتحدة...       ar  \n",
       "43   أعلن الرئيس الروسي، فلاديمير بوتين، اليوم الاث...       ar  \n",
       "49                                                      unknown  \n",
       "56   نقلت وكالة \"رويترز\"، عن وزير الدفاع الباكستاني...       ar  \n",
       "..                                                 ...      ...  \n",
       "596                                                     unknown  \n",
       "598  تحدّثت صحيفة \"فايننشال تايمز\" البريطانية، في ت...       ar  \n",
       "608  أعلنت وزارة العدل وحقوق الإنسان اليمنية في صنع...       ar  \n",
       "613  بحث الرئيس المصري، عبد الفتاح السيسي، مع رئيس ...       ar  \n",
       "614  كشف موقع \"دي كلاسيفيد\" البريطاني، أن شركة بريط...       ar  \n",
       "\n",
       "[71 rows x 10 columns]"
      ]
     },
     "execution_count": 730,
     "metadata": {},
     "output_type": "execute_result"
    }
   ],
   "source": [
    "today = mayadeen_df[mayadeen_df['publish_date'] > str(datetime.date.today())]\n",
    "today"
   ]
  },
  {
   "cell_type": "code",
   "execution_count": 731,
   "id": "46bfa8e8-fd8e-4e6e-ab74-9d9769cd7a42",
   "metadata": {},
   "outputs": [],
   "source": [
    "#transforming into hours and not datetime\n",
    "def get_hours(date):\n",
    "    return date.hour\n",
    "\n",
    "def day_news(news_df):\n",
    "    return news_df[news_df['created_at'] > str(datetime.date.today())].publish_date\n",
    "def hour_news(news_df):\n",
    "    day_series = day_news(news_df)\n",
    "    return day_series.to_frame().applymap(get_hours)\n",
    "hour_mayadeen = hour_news(mayadeen_df).value_counts()\n",
    "hour_mtv = hour_news(mtv_df).value_counts()\n",
    "hour_manar = hour_news(manar_df).value_counts()\n",
    "hour_jadeed = hour_news(jadeed_df).value_counts()\n",
    "hour_annahar = hour_news(annahar_df).value_counts()"
   ]
  },
  {
   "cell_type": "markdown",
   "id": "a40ce266-e8d6-480d-8b50-1f636e51a8f2",
   "metadata": {},
   "source": [
    "## Plotting Frequency"
   ]
  },
  {
   "cell_type": "code",
   "execution_count": 733,
   "id": "4003d19c-12a3-4227-bc4f-6f2347d974ef",
   "metadata": {},
   "outputs": [
    {
     "data": {
      "text/plain": [
       "publish_date\n",
       "12              12\n",
       "9                8\n",
       "11               8\n",
       "14               8\n",
       "5                7\n",
       "7                5\n",
       "8                5\n",
       "13               5\n",
       "15               5\n",
       "6                3\n",
       "10               3\n",
       "3                1\n",
       "4                1\n",
       "19               1\n",
       "Name: count, dtype: int64"
      ]
     },
     "execution_count": 733,
     "metadata": {},
     "output_type": "execute_result"
    }
   ],
   "source": [
    "hour_mayadeen"
   ]
  },
  {
   "cell_type": "code",
   "execution_count": 734,
   "id": "28e46748-e82f-440e-abc4-48bae90b091e",
   "metadata": {},
   "outputs": [
    {
     "data": {
      "image/png": "[encoded data removed]",
      "text/plain": [
       "<Figure size 800x500 with 1 Axes>"
      ]
     },
     "metadata": {},
     "output_type": "display_data"
    }
   ],
   "source": [
    "plt.figure(figsize=(8, 5))\n",
    "hour_mayadeen.plot(label = 'mayadeen')\n",
    "hour_mtv.plot(label = 'mtv')\n",
    "hour_manar.plot(label = 'manar')\n",
    "hour_jadeed.plot(label = 'jadeed')\n",
    "hour_annahar.plot(label = 'annahar')\n",
    "plt.xticks([0, 2, 4, 6, 8, 10, 12, 14, 16, 18, 20, 22, 24], ['0', '2', '4', '6', '8', '10', '12', '14', '16', '18', '20', '22', '24'])\n",
    "plt.xlabel('hour')\n",
    "plt.legend()\n",
    "plt.show()"
   ]
  },
  {
   "cell_type": "markdown",
   "id": "f2e29f04-2fe2-4274-af7c-738caecf3844",
   "metadata": {},
   "source": [
    "### for the distributions of the number of charachters"
   ]
  },
  {
   "cell_type": "code",
   "execution_count": 736,
   "id": "49b47e28-9eeb-48fb-b53b-5d2c3cf98543",
   "metadata": {},
   "outputs": [],
   "source": [
    "def get_count(content):\n",
    "    return len(content)\n",
    "mayadeen_count_char = mayadeen_df['content'].to_frame().applymap(get_count)\n",
    "annahar_count_char = annahar_df['content'].to_frame().applymap(get_count)\n",
    "mtv_count_char = mtv_df['content'].to_frame().applymap(get_count)\n",
    "jadeed_count_char = jadeed_df['content'].to_frame().applymap(get_count)\n",
    "manar_count_char = manar_df['content'].to_frame().applymap(get_count)"
   ]
  },
  {
   "cell_type": "code",
   "execution_count": 737,
   "id": "5517e14e-c9b7-4641-ab16-0647bc2de943",
   "metadata": {},
   "outputs": [
    {
     "data": {
      "text/html": [
       "<div>\n",
       "<style scoped>\n",
       "    .dataframe tbody tr th:only-of-type {\n",
       "        vertical-align: middle;\n",
       "    }\n",
       "\n",
       "    .dataframe tbody tr th {\n",
       "        vertical-align: top;\n",
       "    }\n",
       "\n",
       "    .dataframe thead th {\n",
       "        text-align: right;\n",
       "    }\n",
       "</style>\n",
       "<table border=\"1\" class=\"dataframe\">\n",
       "  <thead>\n",
       "    <tr style=\"text-align: right;\">\n",
       "      <th></th>\n",
       "      <th>news</th>\n",
       "      <th>count</th>\n",
       "    </tr>\n",
       "  </thead>\n",
       "  <tbody>\n",
       "    <tr>\n",
       "      <th>0</th>\n",
       "      <td>mayadeen</td>\n",
       "      <td>867</td>\n",
       "    </tr>\n",
       "    <tr>\n",
       "      <th>1</th>\n",
       "      <td>annahar</td>\n",
       "      <td>2580</td>\n",
       "    </tr>\n",
       "    <tr>\n",
       "      <th>2</th>\n",
       "      <td>mtv</td>\n",
       "      <td>27</td>\n",
       "    </tr>\n",
       "    <tr>\n",
       "      <th>3</th>\n",
       "      <td>jadeed</td>\n",
       "      <td>301</td>\n",
       "    </tr>\n",
       "    <tr>\n",
       "      <th>4</th>\n",
       "      <td>manar</td>\n",
       "      <td>504</td>\n",
       "    </tr>\n",
       "  </tbody>\n",
       "</table>\n",
       "</div>"
      ],
      "text/plain": [
       "       news  count\n",
       "0  mayadeen    867\n",
       "1   annahar   2580\n",
       "2       mtv     27\n",
       "3    jadeed    301\n",
       "4     manar    504"
      ]
     },
     "execution_count": 737,
     "metadata": {},
     "output_type": "execute_result"
    }
   ],
   "source": [
    "#setting up the y and x axis for the histogram\n",
    "values = [['mayadeen', int(mayadeen_count_char.describe().T['mean'])] , \n",
    "          ['annahar', int(annahar_count_char.describe().T['mean']) ],\n",
    "          ['mtv',int(mtv_count_char.describe().T['mean'])] ,\n",
    "          ['jadeed',int(jadeed_count_char.describe().T['mean'])] ,\n",
    "          ['manar',int(manar_count_char.describe().T['mean'])]]\n",
    "news = ['mayadeen', 'annahar', 'mtv', 'jadeed', 'manar']\n",
    "count = pd.DataFrame(values, columns = ['news', 'count'])\n",
    "count"
   ]
  },
  {
   "cell_type": "code",
   "execution_count": 738,
   "id": "74425cb7-e240-4095-b21d-3cbcc53ca53f",
   "metadata": {},
   "outputs": [
    {
     "data": {
      "application/vnd.plotly.v1+json": {
       "config": {
        "plotlyServerURL": "https://plot.ly"
       },
       "data": [
        {
         "alignmentgroup": "True",
         "bingroup": "x",
         "histfunc": "sum",
         "hovertemplate": "news=%{x}<br>sum of count=%{y}<extra></extra>",
         "legendgroup": "",
         "marker": {
          "color": "#636efa",
          "pattern": {
           "shape": ""
          }
         },
         "name": "",
         "nbinsx": 10,
         "offsetgroup": "",
         "orientation": "v",
         "showlegend": false,
         "type": "histogram",
         "x": [
          "mayadeen",
          "annahar",
          "mtv",
          "jadeed",
          "manar"
         ],
         "xaxis": "x",
         "y": [
          867,
          2580,
          27,
          301,
          504
         ],
         "yaxis": "y"
        }
       ],
       "layout": {
        "autosize": true,
        "barmode": "relative",
        "legend": {
         "tracegroupgap": 0
        },
        "margin": {
         "t": 60
        },
        "template": {
         "data": {
          "bar": [
           {
            "error_x": {
             "color": "#2a3f5f"
            },
            "error_y": {
             "color": "#2a3f5f"
            },
            "marker": {
             "line": {
              "color": "#E5ECF6",
              "width": 0.5
             },
             "pattern": {
              "fillmode": "overlay",
              "size": 10,
              "solidity": 0.2
             }
            },
            "type": "bar"
           }
          ],
          "barpolar": [
           {
            "marker": {
             "line": {
              "color": "#E5ECF6",
              "width": 0.5
             },
             "pattern": {
              "fillmode": "overlay",
              "size": 10,
              "solidity": 0.2
             }
            },
            "type": "barpolar"
           }
          ],
          "carpet": [
           {
            "aaxis": {
             "endlinecolor": "#2a3f5f",
             "gridcolor": "white",
             "linecolor": "white",
             "minorgridcolor": "white",
             "startlinecolor": "#2a3f5f"
            },
            "baxis": {
             "endlinecolor": "#2a3f5f",
             "gridcolor": "white",
             "linecolor": "white",
             "minorgridcolor": "white",
             "startlinecolor": "#2a3f5f"
            },
            "type": "carpet"
           }
          ],
          "choropleth": [
           {
            "colorbar": {
             "outlinewidth": 0,
             "ticks": ""
            },
            "type": "choropleth"
           }
          ],
          "contour": [
           {
            "colorbar": {
             "outlinewidth": 0,
             "ticks": ""
            },
            "colorscale": [
             [
              0,
              "#0d0887"
             ],
             [
              0.1111111111111111,
              "#46039f"
             ],
             [
              0.2222222222222222,
              "#7201a8"
             ],
             [
              0.3333333333333333,
              "#9c179e"
             ],
             [
              0.4444444444444444,
              "#bd3786"
             ],
             [
              0.5555555555555556,
              "#d8576b"
             ],
             [
              0.6666666666666666,
              "#ed7953"
             ],
             [
              0.7777777777777778,
              "#fb9f3a"
             ],
             [
              0.8888888888888888,
              "#fdca26"
             ],
             [
              1,
              "#f0f921"
             ]
            ],
            "type": "contour"
           }
          ],
          "contourcarpet": [
           {
            "colorbar": {
             "outlinewidth": 0,
             "ticks": ""
            },
            "type": "contourcarpet"
           }
          ],
          "heatmap": [
           {
            "colorbar": {
             "outlinewidth": 0,
             "ticks": ""
            },
            "colorscale": [
             [
              0,
              "#0d0887"
             ],
             [
              0.1111111111111111,
              "#46039f"
             ],
             [
              0.2222222222222222,
              "#7201a8"
             ],
             [
              0.3333333333333333,
              "#9c179e"
             ],
             [
              0.4444444444444444,
              "#bd3786"
             ],
             [
              0.5555555555555556,
              "#d8576b"
             ],
             [
              0.6666666666666666,
              "#ed7953"
             ],
             [
              0.7777777777777778,
              "#fb9f3a"
             ],
             [
              0.8888888888888888,
              "#fdca26"
             ],
             [
              1,
              "#f0f921"
             ]
            ],
            "type": "heatmap"
           }
          ],
          "heatmapgl": [
           {
            "colorbar": {
             "outlinewidth": 0,
             "ticks": ""
            },
            "colorscale": [
             [
              0,
              "#0d0887"
             ],
             [
              0.1111111111111111,
              "#46039f"
             ],
             [
              0.2222222222222222,
              "#7201a8"
             ],
             [
              0.3333333333333333,
              "#9c179e"
             ],
             [
              0.4444444444444444,
              "#bd3786"
             ],
             [
              0.5555555555555556,
              "#d8576b"
             ],
             [
              0.6666666666666666,
              "#ed7953"
             ],
             [
              0.7777777777777778,
              "#fb9f3a"
             ],
             [
              0.8888888888888888,
              "#fdca26"
             ],
             [
              1,
              "#f0f921"
             ]
            ],
            "type": "heatmapgl"
           }
          ],
          "histogram": [
           {
            "marker": {
             "pattern": {
              "fillmode": "overlay",
              "size": 10,
              "solidity": 0.2
             }
            },
            "type": "histogram"
           }
          ],
          "histogram2d": [
           {
            "colorbar": {
             "outlinewidth": 0,
             "ticks": ""
            },
            "colorscale": [
             [
              0,
              "#0d0887"
             ],
             [
              0.1111111111111111,
              "#46039f"
             ],
             [
              0.2222222222222222,
              "#7201a8"
             ],
             [
              0.3333333333333333,
              "#9c179e"
             ],
             [
              0.4444444444444444,
              "#bd3786"
             ],
             [
              0.5555555555555556,
              "#d8576b"
             ],
             [
              0.6666666666666666,
              "#ed7953"
             ],
             [
              0.7777777777777778,
              "#fb9f3a"
             ],
             [
              0.8888888888888888,
              "#fdca26"
             ],
             [
              1,
              "#f0f921"
             ]
            ],
            "type": "histogram2d"
           }
          ],
          "histogram2dcontour": [
           {
            "colorbar": {
             "outlinewidth": 0,
             "ticks": ""
            },
            "colorscale": [
             [
              0,
              "#0d0887"
             ],
             [
              0.1111111111111111,
              "#46039f"
             ],
             [
              0.2222222222222222,
              "#7201a8"
             ],
             [
              0.3333333333333333,
              "#9c179e"
             ],
             [
              0.4444444444444444,
              "#bd3786"
             ],
             [
              0.5555555555555556,
              "#d8576b"
             ],
             [
              0.6666666666666666,
              "#ed7953"
             ],
             [
              0.7777777777777778,
              "#fb9f3a"
             ],
             [
              0.8888888888888888,
              "#fdca26"
             ],
             [
              1,
              "#f0f921"
             ]
            ],
            "type": "histogram2dcontour"
           }
          ],
          "mesh3d": [
           {
            "colorbar": {
             "outlinewidth": 0,
             "ticks": ""
            },
            "type": "mesh3d"
           }
          ],
          "parcoords": [
           {
            "line": {
             "colorbar": {
              "outlinewidth": 0,
              "ticks": ""
             }
            },
            "type": "parcoords"
           }
          ],
          "pie": [
           {
            "automargin": true,
            "type": "pie"
           }
          ],
          "scatter": [
           {
            "fillpattern": {
             "fillmode": "overlay",
             "size": 10,
             "solidity": 0.2
            },
            "type": "scatter"
           }
          ],
          "scatter3d": [
           {
            "line": {
             "colorbar": {
              "outlinewidth": 0,
              "ticks": ""
             }
            },
            "marker": {
             "colorbar": {
              "outlinewidth": 0,
              "ticks": ""
             }
            },
            "type": "scatter3d"
           }
          ],
          "scattercarpet": [
           {
            "marker": {
             "colorbar": {
              "outlinewidth": 0,
              "ticks": ""
             }
            },
            "type": "scattercarpet"
           }
          ],
          "scattergeo": [
           {
            "marker": {
             "colorbar": {
              "outlinewidth": 0,
              "ticks": ""
             }
            },
            "type": "scattergeo"
           }
          ],
          "scattergl": [
           {
            "marker": {
             "colorbar": {
              "outlinewidth": 0,
              "ticks": ""
             }
            },
            "type": "scattergl"
           }
          ],
          "scattermapbox": [
           {
            "marker": {
             "colorbar": {
              "outlinewidth": 0,
              "ticks": ""
             }
            },
            "type": "scattermapbox"
           }
          ],
          "scatterpolar": [
           {
            "marker": {
             "colorbar": {
              "outlinewidth": 0,
              "ticks": ""
             }
            },
            "type": "scatterpolar"
           }
          ],
          "scatterpolargl": [
           {
            "marker": {
             "colorbar": {
              "outlinewidth": 0,
              "ticks": ""
             }
            },
            "type": "scatterpolargl"
           }
          ],
          "scatterternary": [
           {
            "marker": {
             "colorbar": {
              "outlinewidth": 0,
              "ticks": ""
             }
            },
            "type": "scatterternary"
           }
          ],
          "surface": [
           {
            "colorbar": {
             "outlinewidth": 0,
             "ticks": ""
            },
            "colorscale": [
             [
              0,
              "#0d0887"
             ],
             [
              0.1111111111111111,
              "#46039f"
             ],
             [
              0.2222222222222222,
              "#7201a8"
             ],
             [
              0.3333333333333333,
              "#9c179e"
             ],
             [
              0.4444444444444444,
              "#bd3786"
             ],
             [
              0.5555555555555556,
              "#d8576b"
             ],
             [
              0.6666666666666666,
              "#ed7953"
             ],
             [
              0.7777777777777778,
              "#fb9f3a"
             ],
             [
              0.8888888888888888,
              "#fdca26"
             ],
             [
              1,
              "#f0f921"
             ]
            ],
            "type": "surface"
           }
          ],
          "table": [
           {
            "cells": {
             "fill": {
              "color": "#EBF0F8"
             },
             "line": {
              "color": "white"
             }
            },
            "header": {
             "fill": {
              "color": "#C8D4E3"
             },
             "line": {
              "color": "white"
             }
            },
            "type": "table"
           }
          ]
         },
         "layout": {
          "annotationdefaults": {
           "arrowcolor": "#2a3f5f",
           "arrowhead": 0,
           "arrowwidth": 1
          },
          "autotypenumbers": "strict",
          "coloraxis": {
           "colorbar": {
            "outlinewidth": 0,
            "ticks": ""
           }
          },
          "colorscale": {
           "diverging": [
            [
             0,
             "#8e0152"
            ],
            [
             0.1,
             "#c51b7d"
            ],
            [
             0.2,
             "#de77ae"
            ],
            [
             0.3,
             "#f1b6da"
            ],
            [
             0.4,
             "#fde0ef"
            ],
            [
             0.5,
             "#f7f7f7"
            ],
            [
             0.6,
             "#e6f5d0"
            ],
            [
             0.7,
             "#b8e186"
            ],
            [
             0.8,
             "#7fbc41"
            ],
            [
             0.9,
             "#4d9221"
            ],
            [
             1,
             "#276419"
            ]
           ],
           "sequential": [
            [
             0,
             "#0d0887"
            ],
            [
             0.1111111111111111,
             "#46039f"
            ],
            [
             0.2222222222222222,
             "#7201a8"
            ],
            [
             0.3333333333333333,
             "#9c179e"
            ],
            [
             0.4444444444444444,
             "#bd3786"
            ],
            [
             0.5555555555555556,
             "#d8576b"
            ],
            [
             0.6666666666666666,
             "#ed7953"
            ],
            [
             0.7777777777777778,
             "#fb9f3a"
            ],
            [
             0.8888888888888888,
             "#fdca26"
            ],
            [
             1,
             "#f0f921"
            ]
           ],
           "sequentialminus": [
            [
             0,
             "#0d0887"
            ],
            [
             0.1111111111111111,
             "#46039f"
            ],
            [
             0.2222222222222222,
             "#7201a8"
            ],
            [
             0.3333333333333333,
             "#9c179e"
            ],
            [
             0.4444444444444444,
             "#bd3786"
            ],
            [
             0.5555555555555556,
             "#d8576b"
            ],
            [
             0.6666666666666666,
             "#ed7953"
            ],
            [
             0.7777777777777778,
             "#fb9f3a"
            ],
            [
             0.8888888888888888,
             "#fdca26"
            ],
            [
             1,
             "#f0f921"
            ]
           ]
          },
          "colorway": [
           "#636efa",
           "#EF553B",
           "#00cc96",
           "#ab63fa",
           "#FFA15A",
           "#19d3f3",
           "#FF6692",
           "#B6E880",
           "#FF97FF",
           "#FECB52"
          ],
          "font": {
           "color": "#2a3f5f"
          },
          "geo": {
           "bgcolor": "white",
           "lakecolor": "white",
           "landcolor": "#E5ECF6",
           "showlakes": true,
           "showland": true,
           "subunitcolor": "white"
          },
          "hoverlabel": {
           "align": "left"
          },
          "hovermode": "closest",
          "mapbox": {
           "style": "light"
          },
          "paper_bgcolor": "white",
          "plot_bgcolor": "#E5ECF6",
          "polar": {
           "angularaxis": {
            "gridcolor": "white",
            "linecolor": "white",
            "ticks": ""
           },
           "bgcolor": "#E5ECF6",
           "radialaxis": {
            "gridcolor": "white",
            "linecolor": "white",
            "ticks": ""
           }
          },
          "scene": {
           "xaxis": {
            "backgroundcolor": "#E5ECF6",
            "gridcolor": "white",
            "gridwidth": 2,
            "linecolor": "white",
            "showbackground": true,
            "ticks": "",
            "zerolinecolor": "white"
           },
           "yaxis": {
            "backgroundcolor": "#E5ECF6",
            "gridcolor": "white",
            "gridwidth": 2,
            "linecolor": "white",
            "showbackground": true,
            "ticks": "",
            "zerolinecolor": "white"
           },
           "zaxis": {
            "backgroundcolor": "#E5ECF6",
            "gridcolor": "white",
            "gridwidth": 2,
            "linecolor": "white",
            "showbackground": true,
            "ticks": "",
            "zerolinecolor": "white"
           }
          },
          "shapedefaults": {
           "line": {
            "color": "#2a3f5f"
           }
          },
          "ternary": {
           "aaxis": {
            "gridcolor": "white",
            "linecolor": "white",
            "ticks": ""
           },
           "baxis": {
            "gridcolor": "white",
            "linecolor": "white",
            "ticks": ""
           },
           "bgcolor": "#E5ECF6",
           "caxis": {
            "gridcolor": "white",
            "linecolor": "white",
            "ticks": ""
           }
          },
          "title": {
           "x": 0.05
          },
          "xaxis": {
           "automargin": true,
           "gridcolor": "white",
           "linecolor": "white",
           "ticks": "",
           "title": {
            "standoff": 15
           },
           "zerolinecolor": "white",
           "zerolinewidth": 2
          },
          "yaxis": {
           "automargin": true,
           "gridcolor": "white",
           "linecolor": "white",
           "ticks": "",
           "title": {
            "standoff": 15
           },
           "zerolinecolor": "white",
           "zerolinewidth": 2
          }
         }
        },
        "xaxis": {
         "anchor": "y",
         "autorange": true,
         "domain": [
          0,
          1
         ],
         "range": [
          -0.5,
          4.5
         ],
         "title": {
          "text": "news"
         },
         "type": "category"
        },
        "yaxis": {
         "anchor": "x",
         "autorange": true,
         "domain": [
          0,
          1
         ],
         "range": [
          0,
          2715.7894736842104
         ],
         "title": {
          "text": "sum of count"
         },
         "type": "linear"
        }
       }
      },
      "text/html": [
       "<div>                            <div id=\"2baae93e-f3fe-401e-b68c-84d783f65189\" class=\"plotly-graph-div\" style=\"height:525px; width:100%;\"></div>            <script type=\"text/javascript\">                require([\"plotly\"], function(Plotly) {                    window.PLOTLYENV=window.PLOTLYENV || {};                                    if (document.getElementById(\"2baae93e-f3fe-401e-b68c-84d783f65189\")) {                    Plotly.newPlot(                        \"2baae93e-f3fe-401e-b68c-84d783f65189\",                        [{\"alignmentgroup\":\"True\",\"bingroup\":\"x\",\"histfunc\":\"sum\",\"hovertemplate\":\"news=%{x}\\u003cbr\\u003esum of count=%{y}\\u003cextra\\u003e\\u003c\\u002fextra\\u003e\",\"legendgroup\":\"\",\"marker\":{\"color\":\"#636efa\",\"pattern\":{\"shape\":\"\"}},\"name\":\"\",\"nbinsx\":10,\"offsetgroup\":\"\",\"orientation\":\"v\",\"showlegend\":false,\"x\":[\"mayadeen\",\"annahar\",\"mtv\",\"jadeed\",\"manar\"],\"xaxis\":\"x\",\"y\":[867,2580,27,301,504],\"yaxis\":\"y\",\"type\":\"histogram\"}],                        {\"template\":{\"data\":{\"histogram2dcontour\":[{\"type\":\"histogram2dcontour\",\"colorbar\":{\"outlinewidth\":0,\"ticks\":\"\"},\"colorscale\":[[0.0,\"#0d0887\"],[0.1111111111111111,\"#46039f\"],[0.2222222222222222,\"#7201a8\"],[0.3333333333333333,\"#9c179e\"],[0.4444444444444444,\"#bd3786\"],[0.5555555555555556,\"#d8576b\"],[0.6666666666666666,\"#ed7953\"],[0.7777777777777778,\"#fb9f3a\"],[0.8888888888888888,\"#fdca26\"],[1.0,\"#f0f921\"]]}],\"choropleth\":[{\"type\":\"choropleth\",\"colorbar\":{\"outlinewidth\":0,\"ticks\":\"\"}}],\"histogram2d\":[{\"type\":\"histogram2d\",\"colorbar\":{\"outlinewidth\":0,\"ticks\":\"\"},\"colorscale\":[[0.0,\"#0d0887\"],[0.1111111111111111,\"#46039f\"],[0.2222222222222222,\"#7201a8\"],[0.3333333333333333,\"#9c179e\"],[0.4444444444444444,\"#bd3786\"],[0.5555555555555556,\"#d8576b\"],[0.6666666666666666,\"#ed7953\"],[0.7777777777777778,\"#fb9f3a\"],[0.8888888888888888,\"#fdca26\"],[1.0,\"#f0f921\"]]}],\"heatmap\":[{\"type\":\"heatmap\",\"colorbar\":{\"outlinewidth\":0,\"ticks\":\"\"},\"colorscale\":[[0.0,\"#0d0887\"],[0.1111111111111111,\"#46039f\"],[0.2222222222222222,\"#7201a8\"],[0.3333333333333333,\"#9c179e\"],[0.4444444444444444,\"#bd3786\"],[0.5555555555555556,\"#d8576b\"],[0.6666666666666666,\"#ed7953\"],[0.7777777777777778,\"#fb9f3a\"],[0.8888888888888888,\"#fdca26\"],[1.0,\"#f0f921\"]]}],\"heatmapgl\":[{\"type\":\"heatmapgl\",\"colorbar\":{\"outlinewidth\":0,\"ticks\":\"\"},\"colorscale\":[[0.0,\"#0d0887\"],[0.1111111111111111,\"#46039f\"],[0.2222222222222222,\"#7201a8\"],[0.3333333333333333,\"#9c179e\"],[0.4444444444444444,\"#bd3786\"],[0.5555555555555556,\"#d8576b\"],[0.6666666666666666,\"#ed7953\"],[0.7777777777777778,\"#fb9f3a\"],[0.8888888888888888,\"#fdca26\"],[1.0,\"#f0f921\"]]}],\"contourcarpet\":[{\"type\":\"contourcarpet\",\"colorbar\":{\"outlinewidth\":0,\"ticks\":\"\"}}],\"contour\":[{\"type\":\"contour\",\"colorbar\":{\"outlinewidth\":0,\"ticks\":\"\"},\"colorscale\":[[0.0,\"#0d0887\"],[0.1111111111111111,\"#46039f\"],[0.2222222222222222,\"#7201a8\"],[0.3333333333333333,\"#9c179e\"],[0.4444444444444444,\"#bd3786\"],[0.5555555555555556,\"#d8576b\"],[0.6666666666666666,\"#ed7953\"],[0.7777777777777778,\"#fb9f3a\"],[0.8888888888888888,\"#fdca26\"],[1.0,\"#f0f921\"]]}],\"surface\":[{\"type\":\"surface\",\"colorbar\":{\"outlinewidth\":0,\"ticks\":\"\"},\"colorscale\":[[0.0,\"#0d0887\"],[0.1111111111111111,\"#46039f\"],[0.2222222222222222,\"#7201a8\"],[0.3333333333333333,\"#9c179e\"],[0.4444444444444444,\"#bd3786\"],[0.5555555555555556,\"#d8576b\"],[0.6666666666666666,\"#ed7953\"],[0.7777777777777778,\"#fb9f3a\"],[0.8888888888888888,\"#fdca26\"],[1.0,\"#f0f921\"]]}],\"mesh3d\":[{\"type\":\"mesh3d\",\"colorbar\":{\"outlinewidth\":0,\"ticks\":\"\"}}],\"scatter\":[{\"fillpattern\":{\"fillmode\":\"overlay\",\"size\":10,\"solidity\":0.2},\"type\":\"scatter\"}],\"parcoords\":[{\"type\":\"parcoords\",\"line\":{\"colorbar\":{\"outlinewidth\":0,\"ticks\":\"\"}}}],\"scatterpolargl\":[{\"type\":\"scatterpolargl\",\"marker\":{\"colorbar\":{\"outlinewidth\":0,\"ticks\":\"\"}}}],\"bar\":[{\"error_x\":{\"color\":\"#2a3f5f\"},\"error_y\":{\"color\":\"#2a3f5f\"},\"marker\":{\"line\":{\"color\":\"#E5ECF6\",\"width\":0.5},\"pattern\":{\"fillmode\":\"overlay\",\"size\":10,\"solidity\":0.2}},\"type\":\"bar\"}],\"scattergeo\":[{\"type\":\"scattergeo\",\"marker\":{\"colorbar\":{\"outlinewidth\":0,\"ticks\":\"\"}}}],\"scatterpolar\":[{\"type\":\"scatterpolar\",\"marker\":{\"colorbar\":{\"outlinewidth\":0,\"ticks\":\"\"}}}],\"histogram\":[{\"marker\":{\"pattern\":{\"fillmode\":\"overlay\",\"size\":10,\"solidity\":0.2}},\"type\":\"histogram\"}],\"scattergl\":[{\"type\":\"scattergl\",\"marker\":{\"colorbar\":{\"outlinewidth\":0,\"ticks\":\"\"}}}],\"scatter3d\":[{\"type\":\"scatter3d\",\"line\":{\"colorbar\":{\"outlinewidth\":0,\"ticks\":\"\"}},\"marker\":{\"colorbar\":{\"outlinewidth\":0,\"ticks\":\"\"}}}],\"scattermapbox\":[{\"type\":\"scattermapbox\",\"marker\":{\"colorbar\":{\"outlinewidth\":0,\"ticks\":\"\"}}}],\"scatterternary\":[{\"type\":\"scatterternary\",\"marker\":{\"colorbar\":{\"outlinewidth\":0,\"ticks\":\"\"}}}],\"scattercarpet\":[{\"type\":\"scattercarpet\",\"marker\":{\"colorbar\":{\"outlinewidth\":0,\"ticks\":\"\"}}}],\"carpet\":[{\"aaxis\":{\"endlinecolor\":\"#2a3f5f\",\"gridcolor\":\"white\",\"linecolor\":\"white\",\"minorgridcolor\":\"white\",\"startlinecolor\":\"#2a3f5f\"},\"baxis\":{\"endlinecolor\":\"#2a3f5f\",\"gridcolor\":\"white\",\"linecolor\":\"white\",\"minorgridcolor\":\"white\",\"startlinecolor\":\"#2a3f5f\"},\"type\":\"carpet\"}],\"table\":[{\"cells\":{\"fill\":{\"color\":\"#EBF0F8\"},\"line\":{\"color\":\"white\"}},\"header\":{\"fill\":{\"color\":\"#C8D4E3\"},\"line\":{\"color\":\"white\"}},\"type\":\"table\"}],\"barpolar\":[{\"marker\":{\"line\":{\"color\":\"#E5ECF6\",\"width\":0.5},\"pattern\":{\"fillmode\":\"overlay\",\"size\":10,\"solidity\":0.2}},\"type\":\"barpolar\"}],\"pie\":[{\"automargin\":true,\"type\":\"pie\"}]},\"layout\":{\"autotypenumbers\":\"strict\",\"colorway\":[\"#636efa\",\"#EF553B\",\"#00cc96\",\"#ab63fa\",\"#FFA15A\",\"#19d3f3\",\"#FF6692\",\"#B6E880\",\"#FF97FF\",\"#FECB52\"],\"font\":{\"color\":\"#2a3f5f\"},\"hovermode\":\"closest\",\"hoverlabel\":{\"align\":\"left\"},\"paper_bgcolor\":\"white\",\"plot_bgcolor\":\"#E5ECF6\",\"polar\":{\"bgcolor\":\"#E5ECF6\",\"angularaxis\":{\"gridcolor\":\"white\",\"linecolor\":\"white\",\"ticks\":\"\"},\"radialaxis\":{\"gridcolor\":\"white\",\"linecolor\":\"white\",\"ticks\":\"\"}},\"ternary\":{\"bgcolor\":\"#E5ECF6\",\"aaxis\":{\"gridcolor\":\"white\",\"linecolor\":\"white\",\"ticks\":\"\"},\"baxis\":{\"gridcolor\":\"white\",\"linecolor\":\"white\",\"ticks\":\"\"},\"caxis\":{\"gridcolor\":\"white\",\"linecolor\":\"white\",\"ticks\":\"\"}},\"coloraxis\":{\"colorbar\":{\"outlinewidth\":0,\"ticks\":\"\"}},\"colorscale\":{\"sequential\":[[0.0,\"#0d0887\"],[0.1111111111111111,\"#46039f\"],[0.2222222222222222,\"#7201a8\"],[0.3333333333333333,\"#9c179e\"],[0.4444444444444444,\"#bd3786\"],[0.5555555555555556,\"#d8576b\"],[0.6666666666666666,\"#ed7953\"],[0.7777777777777778,\"#fb9f3a\"],[0.8888888888888888,\"#fdca26\"],[1.0,\"#f0f921\"]],\"sequentialminus\":[[0.0,\"#0d0887\"],[0.1111111111111111,\"#46039f\"],[0.2222222222222222,\"#7201a8\"],[0.3333333333333333,\"#9c179e\"],[0.4444444444444444,\"#bd3786\"],[0.5555555555555556,\"#d8576b\"],[0.6666666666666666,\"#ed7953\"],[0.7777777777777778,\"#fb9f3a\"],[0.8888888888888888,\"#fdca26\"],[1.0,\"#f0f921\"]],\"diverging\":[[0,\"#8e0152\"],[0.1,\"#c51b7d\"],[0.2,\"#de77ae\"],[0.3,\"#f1b6da\"],[0.4,\"#fde0ef\"],[0.5,\"#f7f7f7\"],[0.6,\"#e6f5d0\"],[0.7,\"#b8e186\"],[0.8,\"#7fbc41\"],[0.9,\"#4d9221\"],[1,\"#276419\"]]},\"xaxis\":{\"gridcolor\":\"white\",\"linecolor\":\"white\",\"ticks\":\"\",\"title\":{\"standoff\":15},\"zerolinecolor\":\"white\",\"automargin\":true,\"zerolinewidth\":2},\"yaxis\":{\"gridcolor\":\"white\",\"linecolor\":\"white\",\"ticks\":\"\",\"title\":{\"standoff\":15},\"zerolinecolor\":\"white\",\"automargin\":true,\"zerolinewidth\":2},\"scene\":{\"xaxis\":{\"backgroundcolor\":\"#E5ECF6\",\"gridcolor\":\"white\",\"linecolor\":\"white\",\"showbackground\":true,\"ticks\":\"\",\"zerolinecolor\":\"white\",\"gridwidth\":2},\"yaxis\":{\"backgroundcolor\":\"#E5ECF6\",\"gridcolor\":\"white\",\"linecolor\":\"white\",\"showbackground\":true,\"ticks\":\"\",\"zerolinecolor\":\"white\",\"gridwidth\":2},\"zaxis\":{\"backgroundcolor\":\"#E5ECF6\",\"gridcolor\":\"white\",\"linecolor\":\"white\",\"showbackground\":true,\"ticks\":\"\",\"zerolinecolor\":\"white\",\"gridwidth\":2}},\"shapedefaults\":{\"line\":{\"color\":\"#2a3f5f\"}},\"annotationdefaults\":{\"arrowcolor\":\"#2a3f5f\",\"arrowhead\":0,\"arrowwidth\":1},\"geo\":{\"bgcolor\":\"white\",\"landcolor\":\"#E5ECF6\",\"subunitcolor\":\"white\",\"showland\":true,\"showlakes\":true,\"lakecolor\":\"white\"},\"title\":{\"x\":0.05},\"mapbox\":{\"style\":\"light\"}}},\"xaxis\":{\"anchor\":\"y\",\"domain\":[0.0,1.0],\"title\":{\"text\":\"news\"}},\"yaxis\":{\"anchor\":\"x\",\"domain\":[0.0,1.0],\"title\":{\"text\":\"sum of count\"}},\"legend\":{\"tracegroupgap\":0},\"margin\":{\"t\":60},\"barmode\":\"relative\"},                        {\"responsive\": true}                    ).then(function(){\n",
       "                            \n",
       "var gd = document.getElementById('2baae93e-f3fe-401e-b68c-84d783f65189');\n",
       "var x = new MutationObserver(function (mutations, observer) {{\n",
       "        var display = window.getComputedStyle(gd).display;\n",
       "        if (!display || display === 'none') {{\n",
       "            console.log([gd, 'removed!']);\n",
       "            Plotly.purge(gd);\n",
       "            observer.disconnect();\n",
       "        }}\n",
       "}});\n",
       "\n",
       "// Listen for the removal of the full notebook cells\n",
       "var notebookContainer = gd.closest('#notebook-container');\n",
       "if (notebookContainer) {{\n",
       "    x.observe(notebookContainer, {childList: true});\n",
       "}}\n",
       "\n",
       "// Listen for the clearing of the current output cell\n",
       "var outputEl = gd.closest('.output');\n",
       "if (outputEl) {{\n",
       "    x.observe(outputEl, {childList: true});\n",
       "}}\n",
       "\n",
       "                        })                };                });            </script>        </div>"
      ]
     },
     "metadata": {},
     "output_type": "display_data"
    }
   ],
   "source": [
    "fig = px.histogram(data_frame = count,\n",
    "                   x='news', y ='count', facet_col_spacing = 1, nbins = 10)\n",
    "fig.show()"
   ]
  },
  {
   "cell_type": "markdown",
   "id": "05e3ce5d-ac31-4f38-8219-52e2c1413e8e",
   "metadata": {},
   "source": [
    "### Number of words: (applying the same logic)"
   ]
  },
  {
   "cell_type": "code",
   "execution_count": 740,
   "id": "24d31084-1bc2-49fa-a029-bb4838e080c2",
   "metadata": {},
   "outputs": [],
   "source": [
    "def get_count_wrd(content):\n",
    "    return len(content.split(' '))\n",
    "mayadeen_count_wrd = mayadeen_df['content'].to_frame().applymap(get_count_wrd)\n",
    "annahar_count_wrd = annahar_df['content'].to_frame().applymap(get_count_wrd)\n",
    "mtv_count_wrd = mtv_df['content'].to_frame().applymap(get_count_wrd)\n",
    "jadeed_count_wrd = jadeed_df['content'].to_frame().applymap(get_count_wrd)\n",
    "manar_count_wrd = manar_df['content'].to_frame().applymap(get_count_wrd)"
   ]
  },
  {
   "cell_type": "code",
   "execution_count": 741,
   "id": "1fc2b7af-1fbe-413b-abcb-c62ba97e59a6",
   "metadata": {},
   "outputs": [
    {
     "data": {
      "text/html": [
       "<div>\n",
       "<style scoped>\n",
       "    .dataframe tbody tr th:only-of-type {\n",
       "        vertical-align: middle;\n",
       "    }\n",
       "\n",
       "    .dataframe tbody tr th {\n",
       "        vertical-align: top;\n",
       "    }\n",
       "\n",
       "    .dataframe thead th {\n",
       "        text-align: right;\n",
       "    }\n",
       "</style>\n",
       "<table border=\"1\" class=\"dataframe\">\n",
       "  <thead>\n",
       "    <tr style=\"text-align: right;\">\n",
       "      <th></th>\n",
       "      <th>content</th>\n",
       "    </tr>\n",
       "  </thead>\n",
       "  <tbody>\n",
       "    <tr>\n",
       "      <th>26</th>\n",
       "      <td>133</td>\n",
       "    </tr>\n",
       "    <tr>\n",
       "      <th>36</th>\n",
       "      <td>174</td>\n",
       "    </tr>\n",
       "    <tr>\n",
       "      <th>43</th>\n",
       "      <td>131</td>\n",
       "    </tr>\n",
       "  </tbody>\n",
       "</table>\n",
       "</div>"
      ],
      "text/plain": [
       "    content\n",
       "26      133\n",
       "36      174\n",
       "43      131"
      ]
     },
     "execution_count": 741,
     "metadata": {},
     "output_type": "execute_result"
    }
   ],
   "source": [
    "mayadeen_count_wrd.head(3)"
   ]
  },
  {
   "cell_type": "code",
   "execution_count": 742,
   "id": "5e37a771-b537-4a18-9960-a8679275d3eb",
   "metadata": {},
   "outputs": [
    {
     "data": {
      "text/html": [
       "<div>\n",
       "<style scoped>\n",
       "    .dataframe tbody tr th:only-of-type {\n",
       "        vertical-align: middle;\n",
       "    }\n",
       "\n",
       "    .dataframe tbody tr th {\n",
       "        vertical-align: top;\n",
       "    }\n",
       "\n",
       "    .dataframe thead th {\n",
       "        text-align: right;\n",
       "    }\n",
       "</style>\n",
       "<table border=\"1\" class=\"dataframe\">\n",
       "  <thead>\n",
       "    <tr style=\"text-align: right;\">\n",
       "      <th></th>\n",
       "      <th>news</th>\n",
       "      <th>count</th>\n",
       "    </tr>\n",
       "  </thead>\n",
       "  <tbody>\n",
       "    <tr>\n",
       "      <th>0</th>\n",
       "      <td>mayadeen</td>\n",
       "      <td>138</td>\n",
       "    </tr>\n",
       "    <tr>\n",
       "      <th>1</th>\n",
       "      <td>annahar</td>\n",
       "      <td>422</td>\n",
       "    </tr>\n",
       "    <tr>\n",
       "      <th>2</th>\n",
       "      <td>mtv</td>\n",
       "      <td>5</td>\n",
       "    </tr>\n",
       "    <tr>\n",
       "      <th>3</th>\n",
       "      <td>jadeed</td>\n",
       "      <td>48</td>\n",
       "    </tr>\n",
       "    <tr>\n",
       "      <th>4</th>\n",
       "      <td>manar</td>\n",
       "      <td>78</td>\n",
       "    </tr>\n",
       "  </tbody>\n",
       "</table>\n",
       "</div>"
      ],
      "text/plain": [
       "       news  count\n",
       "0  mayadeen    138\n",
       "1   annahar    422\n",
       "2       mtv      5\n",
       "3    jadeed     48\n",
       "4     manar     78"
      ]
     },
     "execution_count": 742,
     "metadata": {},
     "output_type": "execute_result"
    }
   ],
   "source": [
    "#setting up the y and x axis for the histogram\n",
    "values = [['mayadeen', int(mayadeen_count_wrd.describe().T['mean'])] , \n",
    "          ['annahar', int(annahar_count_wrd.describe().T['mean']) ],\n",
    "          ['mtv',int(mtv_count_wrd.describe().T['mean'])] ,\n",
    "          ['jadeed',int(jadeed_count_wrd.describe().T['mean'])] ,\n",
    "          ['manar',int(manar_count_wrd.describe().T['mean'])]]\n",
    "news = ['mayadeen', 'annahar', 'mtv', 'jadeed', 'manar']\n",
    "count_wrd = pd.DataFrame(values, columns = ['news', 'count'])\n",
    "count_wrd"
   ]
  },
  {
   "cell_type": "code",
   "execution_count": 743,
   "id": "e239ffab-e025-4b49-9c42-6eebc41aa06a",
   "metadata": {},
   "outputs": [
    {
     "data": {
      "application/vnd.plotly.v1+json": {
       "config": {
        "plotlyServerURL": "https://plot.ly"
       },
       "data": [
        {
         "alignmentgroup": "True",
         "bingroup": "x",
         "histfunc": "sum",
         "hovertemplate": "news=%{x}<br>sum of count=%{y}<extra></extra>",
         "legendgroup": "",
         "marker": {
          "color": "#636efa",
          "pattern": {
           "shape": ""
          }
         },
         "name": "",
         "nbinsx": 10,
         "offsetgroup": "",
         "orientation": "v",
         "showlegend": false,
         "type": "histogram",
         "x": [
          "mayadeen",
          "annahar",
          "mtv",
          "jadeed",
          "manar"
         ],
         "xaxis": "x",
         "y": [
          138,
          422,
          5,
          48,
          78
         ],
         "yaxis": "y"
        }
       ],
       "layout": {
        "autosize": true,
        "barmode": "relative",
        "legend": {
         "tracegroupgap": 0
        },
        "margin": {
         "t": 60
        },
        "template": {
         "data": {
          "bar": [
           {
            "error_x": {
             "color": "#2a3f5f"
            },
            "error_y": {
             "color": "#2a3f5f"
            },
            "marker": {
             "line": {
              "color": "#E5ECF6",
              "width": 0.5
             },
             "pattern": {
              "fillmode": "overlay",
              "size": 10,
              "solidity": 0.2
             }
            },
            "type": "bar"
           }
          ],
          "barpolar": [
           {
            "marker": {
             "line": {
              "color": "#E5ECF6",
              "width": 0.5
             },
             "pattern": {
              "fillmode": "overlay",
              "size": 10,
              "solidity": 0.2
             }
            },
            "type": "barpolar"
           }
          ],
          "carpet": [
           {
            "aaxis": {
             "endlinecolor": "#2a3f5f",
             "gridcolor": "white",
             "linecolor": "white",
             "minorgridcolor": "white",
             "startlinecolor": "#2a3f5f"
            },
            "baxis": {
             "endlinecolor": "#2a3f5f",
             "gridcolor": "white",
             "linecolor": "white",
             "minorgridcolor": "white",
             "startlinecolor": "#2a3f5f"
            },
            "type": "carpet"
           }
          ],
          "choropleth": [
           {
            "colorbar": {
             "outlinewidth": 0,
             "ticks": ""
            },
            "type": "choropleth"
           }
          ],
          "contour": [
           {
            "colorbar": {
             "outlinewidth": 0,
             "ticks": ""
            },
            "colorscale": [
             [
              0,
              "#0d0887"
             ],
             [
              0.1111111111111111,
              "#46039f"
             ],
             [
              0.2222222222222222,
              "#7201a8"
             ],
             [
              0.3333333333333333,
              "#9c179e"
             ],
             [
              0.4444444444444444,
              "#bd3786"
             ],
             [
              0.5555555555555556,
              "#d8576b"
             ],
             [
              0.6666666666666666,
              "#ed7953"
             ],
             [
              0.7777777777777778,
              "#fb9f3a"
             ],
             [
              0.8888888888888888,
              "#fdca26"
             ],
             [
              1,
              "#f0f921"
             ]
            ],
            "type": "contour"
           }
          ],
          "contourcarpet": [
           {
            "colorbar": {
             "outlinewidth": 0,
             "ticks": ""
            },
            "type": "contourcarpet"
           }
          ],
          "heatmap": [
           {
            "colorbar": {
             "outlinewidth": 0,
             "ticks": ""
            },
            "colorscale": [
             [
              0,
              "#0d0887"
             ],
             [
              0.1111111111111111,
              "#46039f"
             ],
             [
              0.2222222222222222,
              "#7201a8"
             ],
             [
              0.3333333333333333,
              "#9c179e"
             ],
             [
              0.4444444444444444,
              "#bd3786"
             ],
             [
              0.5555555555555556,
              "#d8576b"
             ],
             [
              0.6666666666666666,
              "#ed7953"
             ],
             [
              0.7777777777777778,
              "#fb9f3a"
             ],
             [
              0.8888888888888888,
              "#fdca26"
             ],
             [
              1,
              "#f0f921"
             ]
            ],
            "type": "heatmap"
           }
          ],
          "heatmapgl": [
           {
            "colorbar": {
             "outlinewidth": 0,
             "ticks": ""
            },
            "colorscale": [
             [
              0,
              "#0d0887"
             ],
             [
              0.1111111111111111,
              "#46039f"
             ],
             [
              0.2222222222222222,
              "#7201a8"
             ],
             [
              0.3333333333333333,
              "#9c179e"
             ],
             [
              0.4444444444444444,
              "#bd3786"
             ],
             [
              0.5555555555555556,
              "#d8576b"
             ],
             [
              0.6666666666666666,
              "#ed7953"
             ],
             [
              0.7777777777777778,
              "#fb9f3a"
             ],
             [
              0.8888888888888888,
              "#fdca26"
             ],
             [
              1,
              "#f0f921"
             ]
            ],
            "type": "heatmapgl"
           }
          ],
          "histogram": [
           {
            "marker": {
             "pattern": {
              "fillmode": "overlay",
              "size": 10,
              "solidity": 0.2
             }
            },
            "type": "histogram"
           }
          ],
          "histogram2d": [
           {
            "colorbar": {
             "outlinewidth": 0,
             "ticks": ""
            },
            "colorscale": [
             [
              0,
              "#0d0887"
             ],
             [
              0.1111111111111111,
              "#46039f"
             ],
             [
              0.2222222222222222,
              "#7201a8"
             ],
             [
              0.3333333333333333,
              "#9c179e"
             ],
             [
              0.4444444444444444,
              "#bd3786"
             ],
             [
              0.5555555555555556,
              "#d8576b"
             ],
             [
              0.6666666666666666,
              "#ed7953"
             ],
             [
              0.7777777777777778,
              "#fb9f3a"
             ],
             [
              0.8888888888888888,
              "#fdca26"
             ],
             [
              1,
              "#f0f921"
             ]
            ],
            "type": "histogram2d"
           }
          ],
          "histogram2dcontour": [
           {
            "colorbar": {
             "outlinewidth": 0,
             "ticks": ""
            },
            "colorscale": [
             [
              0,
              "#0d0887"
             ],
             [
              0.1111111111111111,
              "#46039f"
             ],
             [
              0.2222222222222222,
              "#7201a8"
             ],
             [
              0.3333333333333333,
              "#9c179e"
             ],
             [
              0.4444444444444444,
              "#bd3786"
             ],
             [
              0.5555555555555556,
              "#d8576b"
             ],
             [
              0.6666666666666666,
              "#ed7953"
             ],
             [
              0.7777777777777778,
              "#fb9f3a"
             ],
             [
              0.8888888888888888,
              "#fdca26"
             ],
             [
              1,
              "#f0f921"
             ]
            ],
            "type": "histogram2dcontour"
           }
          ],
          "mesh3d": [
           {
            "colorbar": {
             "outlinewidth": 0,
             "ticks": ""
            },
            "type": "mesh3d"
           }
          ],
          "parcoords": [
           {
            "line": {
             "colorbar": {
              "outlinewidth": 0,
              "ticks": ""
             }
            },
            "type": "parcoords"
           }
          ],
          "pie": [
           {
            "automargin": true,
            "type": "pie"
           }
          ],
          "scatter": [
           {
            "fillpattern": {
             "fillmode": "overlay",
             "size": 10,
             "solidity": 0.2
            },
            "type": "scatter"
           }
          ],
          "scatter3d": [
           {
            "line": {
             "colorbar": {
              "outlinewidth": 0,
              "ticks": ""
             }
            },
            "marker": {
             "colorbar": {
              "outlinewidth": 0,
              "ticks": ""
             }
            },
            "type": "scatter3d"
           }
          ],
          "scattercarpet": [
           {
            "marker": {
             "colorbar": {
              "outlinewidth": 0,
              "ticks": ""
             }
            },
            "type": "scattercarpet"
           }
          ],
          "scattergeo": [
           {
            "marker": {
             "colorbar": {
              "outlinewidth": 0,
              "ticks": ""
             }
            },
            "type": "scattergeo"
           }
          ],
          "scattergl": [
           {
            "marker": {
             "colorbar": {
              "outlinewidth": 0,
              "ticks": ""
             }
            },
            "type": "scattergl"
           }
          ],
          "scattermapbox": [
           {
            "marker": {
             "colorbar": {
              "outlinewidth": 0,
              "ticks": ""
             }
            },
            "type": "scattermapbox"
           }
          ],
          "scatterpolar": [
           {
            "marker": {
             "colorbar": {
              "outlinewidth": 0,
              "ticks": ""
             }
            },
            "type": "scatterpolar"
           }
          ],
          "scatterpolargl": [
           {
            "marker": {
             "colorbar": {
              "outlinewidth": 0,
              "ticks": ""
             }
            },
            "type": "scatterpolargl"
           }
          ],
          "scatterternary": [
           {
            "marker": {
             "colorbar": {
              "outlinewidth": 0,
              "ticks": ""
             }
            },
            "type": "scatterternary"
           }
          ],
          "surface": [
           {
            "colorbar": {
             "outlinewidth": 0,
             "ticks": ""
            },
            "colorscale": [
             [
              0,
              "#0d0887"
             ],
             [
              0.1111111111111111,
              "#46039f"
             ],
             [
              0.2222222222222222,
              "#7201a8"
             ],
             [
              0.3333333333333333,
              "#9c179e"
             ],
             [
              0.4444444444444444,
              "#bd3786"
             ],
             [
              0.5555555555555556,
              "#d8576b"
             ],
             [
              0.6666666666666666,
              "#ed7953"
             ],
             [
              0.7777777777777778,
              "#fb9f3a"
             ],
             [
              0.8888888888888888,
              "#fdca26"
             ],
             [
              1,
              "#f0f921"
             ]
            ],
            "type": "surface"
           }
          ],
          "table": [
           {
            "cells": {
             "fill": {
              "color": "#EBF0F8"
             },
             "line": {
              "color": "white"
             }
            },
            "header": {
             "fill": {
              "color": "#C8D4E3"
             },
             "line": {
              "color": "white"
             }
            },
            "type": "table"
           }
          ]
         },
         "layout": {
          "annotationdefaults": {
           "arrowcolor": "#2a3f5f",
           "arrowhead": 0,
           "arrowwidth": 1
          },
          "autotypenumbers": "strict",
          "coloraxis": {
           "colorbar": {
            "outlinewidth": 0,
            "ticks": ""
           }
          },
          "colorscale": {
           "diverging": [
            [
             0,
             "#8e0152"
            ],
            [
             0.1,
             "#c51b7d"
            ],
            [
             0.2,
             "#de77ae"
            ],
            [
             0.3,
             "#f1b6da"
            ],
            [
             0.4,
             "#fde0ef"
            ],
            [
             0.5,
             "#f7f7f7"
            ],
            [
             0.6,
             "#e6f5d0"
            ],
            [
             0.7,
             "#b8e186"
            ],
            [
             0.8,
             "#7fbc41"
            ],
            [
             0.9,
             "#4d9221"
            ],
            [
             1,
             "#276419"
            ]
           ],
           "sequential": [
            [
             0,
             "#0d0887"
            ],
            [
             0.1111111111111111,
             "#46039f"
            ],
            [
             0.2222222222222222,
             "#7201a8"
            ],
            [
             0.3333333333333333,
             "#9c179e"
            ],
            [
             0.4444444444444444,
             "#bd3786"
            ],
            [
             0.5555555555555556,
             "#d8576b"
            ],
            [
             0.6666666666666666,
             "#ed7953"
            ],
            [
             0.7777777777777778,
             "#fb9f3a"
            ],
            [
             0.8888888888888888,
             "#fdca26"
            ],
            [
             1,
             "#f0f921"
            ]
           ],
           "sequentialminus": [
            [
             0,
             "#0d0887"
            ],
            [
             0.1111111111111111,
             "#46039f"
            ],
            [
             0.2222222222222222,
             "#7201a8"
            ],
            [
             0.3333333333333333,
             "#9c179e"
            ],
            [
             0.4444444444444444,
             "#bd3786"
            ],
            [
             0.5555555555555556,
             "#d8576b"
            ],
            [
             0.6666666666666666,
             "#ed7953"
            ],
            [
             0.7777777777777778,
             "#fb9f3a"
            ],
            [
             0.8888888888888888,
             "#fdca26"
            ],
            [
             1,
             "#f0f921"
            ]
           ]
          },
          "colorway": [
           "#636efa",
           "#EF553B",
           "#00cc96",
           "#ab63fa",
           "#FFA15A",
           "#19d3f3",
           "#FF6692",
           "#B6E880",
           "#FF97FF",
           "#FECB52"
          ],
          "font": {
           "color": "#2a3f5f"
          },
          "geo": {
           "bgcolor": "white",
           "lakecolor": "white",
           "landcolor": "#E5ECF6",
           "showlakes": true,
           "showland": true,
           "subunitcolor": "white"
          },
          "hoverlabel": {
           "align": "left"
          },
          "hovermode": "closest",
          "mapbox": {
           "style": "light"
          },
          "paper_bgcolor": "white",
          "plot_bgcolor": "#E5ECF6",
          "polar": {
           "angularaxis": {
            "gridcolor": "white",
            "linecolor": "white",
            "ticks": ""
           },
           "bgcolor": "#E5ECF6",
           "radialaxis": {
            "gridcolor": "white",
            "linecolor": "white",
            "ticks": ""
           }
          },
          "scene": {
           "xaxis": {
            "backgroundcolor": "#E5ECF6",
            "gridcolor": "white",
            "gridwidth": 2,
            "linecolor": "white",
            "showbackground": true,
            "ticks": "",
            "zerolinecolor": "white"
           },
           "yaxis": {
            "backgroundcolor": "#E5ECF6",
            "gridcolor": "white",
            "gridwidth": 2,
            "linecolor": "white",
            "showbackground": true,
            "ticks": "",
            "zerolinecolor": "white"
           },
           "zaxis": {
            "backgroundcolor": "#E5ECF6",
            "gridcolor": "white",
            "gridwidth": 2,
            "linecolor": "white",
            "showbackground": true,
            "ticks": "",
            "zerolinecolor": "white"
           }
          },
          "shapedefaults": {
           "line": {
            "color": "#2a3f5f"
           }
          },
          "ternary": {
           "aaxis": {
            "gridcolor": "white",
            "linecolor": "white",
            "ticks": ""
           },
           "baxis": {
            "gridcolor": "white",
            "linecolor": "white",
            "ticks": ""
           },
           "bgcolor": "#E5ECF6",
           "caxis": {
            "gridcolor": "white",
            "linecolor": "white",
            "ticks": ""
           }
          },
          "title": {
           "x": 0.05
          },
          "xaxis": {
           "automargin": true,
           "gridcolor": "white",
           "linecolor": "white",
           "ticks": "",
           "title": {
            "standoff": 15
           },
           "zerolinecolor": "white",
           "zerolinewidth": 2
          },
          "yaxis": {
           "automargin": true,
           "gridcolor": "white",
           "linecolor": "white",
           "ticks": "",
           "title": {
            "standoff": 15
           },
           "zerolinecolor": "white",
           "zerolinewidth": 2
          }
         }
        },
        "xaxis": {
         "anchor": "y",
         "autorange": true,
         "domain": [
          0,
          1
         ],
         "range": [
          -0.5,
          4.5
         ],
         "title": {
          "text": "news"
         },
         "type": "category"
        },
        "yaxis": {
         "anchor": "x",
         "autorange": true,
         "domain": [
          0,
          1
         ],
         "range": [
          0,
          444.2105263157895
         ],
         "title": {
          "text": "sum of count"
         },
         "type": "linear"
        }
       }
      },
      "image/png": "[encoded data removed]",
      "text/html": [
       "<div>                            <div id=\"5faf7b78-371c-49bf-add9-e7d8294642b6\" class=\"plotly-graph-div\" style=\"height:525px; width:100%;\"></div>            <script type=\"text/javascript\">                require([\"plotly\"], function(Plotly) {                    window.PLOTLYENV=window.PLOTLYENV || {};                                    if (document.getElementById(\"5faf7b78-371c-49bf-add9-e7d8294642b6\")) {                    Plotly.newPlot(                        \"5faf7b78-371c-49bf-add9-e7d8294642b6\",                        [{\"alignmentgroup\":\"True\",\"bingroup\":\"x\",\"histfunc\":\"sum\",\"hovertemplate\":\"news=%{x}\\u003cbr\\u003esum of count=%{y}\\u003cextra\\u003e\\u003c\\u002fextra\\u003e\",\"legendgroup\":\"\",\"marker\":{\"color\":\"#636efa\",\"pattern\":{\"shape\":\"\"}},\"name\":\"\",\"nbinsx\":10,\"offsetgroup\":\"\",\"orientation\":\"v\",\"showlegend\":false,\"x\":[\"mayadeen\",\"annahar\",\"mtv\",\"jadeed\",\"manar\"],\"xaxis\":\"x\",\"y\":[138,422,5,48,78],\"yaxis\":\"y\",\"type\":\"histogram\"}],                        {\"template\":{\"data\":{\"histogram2dcontour\":[{\"type\":\"histogram2dcontour\",\"colorbar\":{\"outlinewidth\":0,\"ticks\":\"\"},\"colorscale\":[[0.0,\"#0d0887\"],[0.1111111111111111,\"#46039f\"],[0.2222222222222222,\"#7201a8\"],[0.3333333333333333,\"#9c179e\"],[0.4444444444444444,\"#bd3786\"],[0.5555555555555556,\"#d8576b\"],[0.6666666666666666,\"#ed7953\"],[0.7777777777777778,\"#fb9f3a\"],[0.8888888888888888,\"#fdca26\"],[1.0,\"#f0f921\"]]}],\"choropleth\":[{\"type\":\"choropleth\",\"colorbar\":{\"outlinewidth\":0,\"ticks\":\"\"}}],\"histogram2d\":[{\"type\":\"histogram2d\",\"colorbar\":{\"outlinewidth\":0,\"ticks\":\"\"},\"colorscale\":[[0.0,\"#0d0887\"],[0.1111111111111111,\"#46039f\"],[0.2222222222222222,\"#7201a8\"],[0.3333333333333333,\"#9c179e\"],[0.4444444444444444,\"#bd3786\"],[0.5555555555555556,\"#d8576b\"],[0.6666666666666666,\"#ed7953\"],[0.7777777777777778,\"#fb9f3a\"],[0.8888888888888888,\"#fdca26\"],[1.0,\"#f0f921\"]]}],\"heatmap\":[{\"type\":\"heatmap\",\"colorbar\":{\"outlinewidth\":0,\"ticks\":\"\"},\"colorscale\":[[0.0,\"#0d0887\"],[0.1111111111111111,\"#46039f\"],[0.2222222222222222,\"#7201a8\"],[0.3333333333333333,\"#9c179e\"],[0.4444444444444444,\"#bd3786\"],[0.5555555555555556,\"#d8576b\"],[0.6666666666666666,\"#ed7953\"],[0.7777777777777778,\"#fb9f3a\"],[0.8888888888888888,\"#fdca26\"],[1.0,\"#f0f921\"]]}],\"heatmapgl\":[{\"type\":\"heatmapgl\",\"colorbar\":{\"outlinewidth\":0,\"ticks\":\"\"},\"colorscale\":[[0.0,\"#0d0887\"],[0.1111111111111111,\"#46039f\"],[0.2222222222222222,\"#7201a8\"],[0.3333333333333333,\"#9c179e\"],[0.4444444444444444,\"#bd3786\"],[0.5555555555555556,\"#d8576b\"],[0.6666666666666666,\"#ed7953\"],[0.7777777777777778,\"#fb9f3a\"],[0.8888888888888888,\"#fdca26\"],[1.0,\"#f0f921\"]]}],\"contourcarpet\":[{\"type\":\"contourcarpet\",\"colorbar\":{\"outlinewidth\":0,\"ticks\":\"\"}}],\"contour\":[{\"type\":\"contour\",\"colorbar\":{\"outlinewidth\":0,\"ticks\":\"\"},\"colorscale\":[[0.0,\"#0d0887\"],[0.1111111111111111,\"#46039f\"],[0.2222222222222222,\"#7201a8\"],[0.3333333333333333,\"#9c179e\"],[0.4444444444444444,\"#bd3786\"],[0.5555555555555556,\"#d8576b\"],[0.6666666666666666,\"#ed7953\"],[0.7777777777777778,\"#fb9f3a\"],[0.8888888888888888,\"#fdca26\"],[1.0,\"#f0f921\"]]}],\"surface\":[{\"type\":\"surface\",\"colorbar\":{\"outlinewidth\":0,\"ticks\":\"\"},\"colorscale\":[[0.0,\"#0d0887\"],[0.1111111111111111,\"#46039f\"],[0.2222222222222222,\"#7201a8\"],[0.3333333333333333,\"#9c179e\"],[0.4444444444444444,\"#bd3786\"],[0.5555555555555556,\"#d8576b\"],[0.6666666666666666,\"#ed7953\"],[0.7777777777777778,\"#fb9f3a\"],[0.8888888888888888,\"#fdca26\"],[1.0,\"#f0f921\"]]}],\"mesh3d\":[{\"type\":\"mesh3d\",\"colorbar\":{\"outlinewidth\":0,\"ticks\":\"\"}}],\"scatter\":[{\"fillpattern\":{\"fillmode\":\"overlay\",\"size\":10,\"solidity\":0.2},\"type\":\"scatter\"}],\"parcoords\":[{\"type\":\"parcoords\",\"line\":{\"colorbar\":{\"outlinewidth\":0,\"ticks\":\"\"}}}],\"scatterpolargl\":[{\"type\":\"scatterpolargl\",\"marker\":{\"colorbar\":{\"outlinewidth\":0,\"ticks\":\"\"}}}],\"bar\":[{\"error_x\":{\"color\":\"#2a3f5f\"},\"error_y\":{\"color\":\"#2a3f5f\"},\"marker\":{\"line\":{\"color\":\"#E5ECF6\",\"width\":0.5},\"pattern\":{\"fillmode\":\"overlay\",\"size\":10,\"solidity\":0.2}},\"type\":\"bar\"}],\"scattergeo\":[{\"type\":\"scattergeo\",\"marker\":{\"colorbar\":{\"outlinewidth\":0,\"ticks\":\"\"}}}],\"scatterpolar\":[{\"type\":\"scatterpolar\",\"marker\":{\"colorbar\":{\"outlinewidth\":0,\"ticks\":\"\"}}}],\"histogram\":[{\"marker\":{\"pattern\":{\"fillmode\":\"overlay\",\"size\":10,\"solidity\":0.2}},\"type\":\"histogram\"}],\"scattergl\":[{\"type\":\"scattergl\",\"marker\":{\"colorbar\":{\"outlinewidth\":0,\"ticks\":\"\"}}}],\"scatter3d\":[{\"type\":\"scatter3d\",\"line\":{\"colorbar\":{\"outlinewidth\":0,\"ticks\":\"\"}},\"marker\":{\"colorbar\":{\"outlinewidth\":0,\"ticks\":\"\"}}}],\"scattermapbox\":[{\"type\":\"scattermapbox\",\"marker\":{\"colorbar\":{\"outlinewidth\":0,\"ticks\":\"\"}}}],\"scatterternary\":[{\"type\":\"scatterternary\",\"marker\":{\"colorbar\":{\"outlinewidth\":0,\"ticks\":\"\"}}}],\"scattercarpet\":[{\"type\":\"scattercarpet\",\"marker\":{\"colorbar\":{\"outlinewidth\":0,\"ticks\":\"\"}}}],\"carpet\":[{\"aaxis\":{\"endlinecolor\":\"#2a3f5f\",\"gridcolor\":\"white\",\"linecolor\":\"white\",\"minorgridcolor\":\"white\",\"startlinecolor\":\"#2a3f5f\"},\"baxis\":{\"endlinecolor\":\"#2a3f5f\",\"gridcolor\":\"white\",\"linecolor\":\"white\",\"minorgridcolor\":\"white\",\"startlinecolor\":\"#2a3f5f\"},\"type\":\"carpet\"}],\"table\":[{\"cells\":{\"fill\":{\"color\":\"#EBF0F8\"},\"line\":{\"color\":\"white\"}},\"header\":{\"fill\":{\"color\":\"#C8D4E3\"},\"line\":{\"color\":\"white\"}},\"type\":\"table\"}],\"barpolar\":[{\"marker\":{\"line\":{\"color\":\"#E5ECF6\",\"width\":0.5},\"pattern\":{\"fillmode\":\"overlay\",\"size\":10,\"solidity\":0.2}},\"type\":\"barpolar\"}],\"pie\":[{\"automargin\":true,\"type\":\"pie\"}]},\"layout\":{\"autotypenumbers\":\"strict\",\"colorway\":[\"#636efa\",\"#EF553B\",\"#00cc96\",\"#ab63fa\",\"#FFA15A\",\"#19d3f3\",\"#FF6692\",\"#B6E880\",\"#FF97FF\",\"#FECB52\"],\"font\":{\"color\":\"#2a3f5f\"},\"hovermode\":\"closest\",\"hoverlabel\":{\"align\":\"left\"},\"paper_bgcolor\":\"white\",\"plot_bgcolor\":\"#E5ECF6\",\"polar\":{\"bgcolor\":\"#E5ECF6\",\"angularaxis\":{\"gridcolor\":\"white\",\"linecolor\":\"white\",\"ticks\":\"\"},\"radialaxis\":{\"gridcolor\":\"white\",\"linecolor\":\"white\",\"ticks\":\"\"}},\"ternary\":{\"bgcolor\":\"#E5ECF6\",\"aaxis\":{\"gridcolor\":\"white\",\"linecolor\":\"white\",\"ticks\":\"\"},\"baxis\":{\"gridcolor\":\"white\",\"linecolor\":\"white\",\"ticks\":\"\"},\"caxis\":{\"gridcolor\":\"white\",\"linecolor\":\"white\",\"ticks\":\"\"}},\"coloraxis\":{\"colorbar\":{\"outlinewidth\":0,\"ticks\":\"\"}},\"colorscale\":{\"sequential\":[[0.0,\"#0d0887\"],[0.1111111111111111,\"#46039f\"],[0.2222222222222222,\"#7201a8\"],[0.3333333333333333,\"#9c179e\"],[0.4444444444444444,\"#bd3786\"],[0.5555555555555556,\"#d8576b\"],[0.6666666666666666,\"#ed7953\"],[0.7777777777777778,\"#fb9f3a\"],[0.8888888888888888,\"#fdca26\"],[1.0,\"#f0f921\"]],\"sequentialminus\":[[0.0,\"#0d0887\"],[0.1111111111111111,\"#46039f\"],[0.2222222222222222,\"#7201a8\"],[0.3333333333333333,\"#9c179e\"],[0.4444444444444444,\"#bd3786\"],[0.5555555555555556,\"#d8576b\"],[0.6666666666666666,\"#ed7953\"],[0.7777777777777778,\"#fb9f3a\"],[0.8888888888888888,\"#fdca26\"],[1.0,\"#f0f921\"]],\"diverging\":[[0,\"#8e0152\"],[0.1,\"#c51b7d\"],[0.2,\"#de77ae\"],[0.3,\"#f1b6da\"],[0.4,\"#fde0ef\"],[0.5,\"#f7f7f7\"],[0.6,\"#e6f5d0\"],[0.7,\"#b8e186\"],[0.8,\"#7fbc41\"],[0.9,\"#4d9221\"],[1,\"#276419\"]]},\"xaxis\":{\"gridcolor\":\"white\",\"linecolor\":\"white\",\"ticks\":\"\",\"title\":{\"standoff\":15},\"zerolinecolor\":\"white\",\"automargin\":true,\"zerolinewidth\":2},\"yaxis\":{\"gridcolor\":\"white\",\"linecolor\":\"white\",\"ticks\":\"\",\"title\":{\"standoff\":15},\"zerolinecolor\":\"white\",\"automargin\":true,\"zerolinewidth\":2},\"scene\":{\"xaxis\":{\"backgroundcolor\":\"#E5ECF6\",\"gridcolor\":\"white\",\"linecolor\":\"white\",\"showbackground\":true,\"ticks\":\"\",\"zerolinecolor\":\"white\",\"gridwidth\":2},\"yaxis\":{\"backgroundcolor\":\"#E5ECF6\",\"gridcolor\":\"white\",\"linecolor\":\"white\",\"showbackground\":true,\"ticks\":\"\",\"zerolinecolor\":\"white\",\"gridwidth\":2},\"zaxis\":{\"backgroundcolor\":\"#E5ECF6\",\"gridcolor\":\"white\",\"linecolor\":\"white\",\"showbackground\":true,\"ticks\":\"\",\"zerolinecolor\":\"white\",\"gridwidth\":2}},\"shapedefaults\":{\"line\":{\"color\":\"#2a3f5f\"}},\"annotationdefaults\":{\"arrowcolor\":\"#2a3f5f\",\"arrowhead\":0,\"arrowwidth\":1},\"geo\":{\"bgcolor\":\"white\",\"landcolor\":\"#E5ECF6\",\"subunitcolor\":\"white\",\"showland\":true,\"showlakes\":true,\"lakecolor\":\"white\"},\"title\":{\"x\":0.05},\"mapbox\":{\"style\":\"light\"}}},\"xaxis\":{\"anchor\":\"y\",\"domain\":[0.0,1.0],\"title\":{\"text\":\"news\"}},\"yaxis\":{\"anchor\":\"x\",\"domain\":[0.0,1.0],\"title\":{\"text\":\"sum of count\"}},\"legend\":{\"tracegroupgap\":0},\"margin\":{\"t\":60},\"barmode\":\"relative\"},                        {\"responsive\": true}                    ).then(function(){\n",
       "                            \n",
       "var gd = document.getElementById('5faf7b78-371c-49bf-add9-e7d8294642b6');\n",
       "var x = new MutationObserver(function (mutations, observer) {{\n",
       "        var display = window.getComputedStyle(gd).display;\n",
       "        if (!display || display === 'none') {{\n",
       "            console.log([gd, 'removed!']);\n",
       "            Plotly.purge(gd);\n",
       "            observer.disconnect();\n",
       "        }}\n",
       "}});\n",
       "\n",
       "// Listen for the removal of the full notebook cells\n",
       "var notebookContainer = gd.closest('#notebook-container');\n",
       "if (notebookContainer) {{\n",
       "    x.observe(notebookContainer, {childList: true});\n",
       "}}\n",
       "\n",
       "// Listen for the clearing of the current output cell\n",
       "var outputEl = gd.closest('.output');\n",
       "if (outputEl) {{\n",
       "    x.observe(outputEl, {childList: true});\n",
       "}}\n",
       "\n",
       "                        })                };                });            </script>        </div>"
      ]
     },
     "metadata": {},
     "output_type": "display_data"
    }
   ],
   "source": [
    "fig = px.histogram(data_frame = count_wrd,\n",
    "                   x='news', y ='count', facet_col_spacing = 1, nbins = 10)\n",
    "fig.show()"
   ]
  }
 ],
 "metadata": {
  "kernelspec": {
   "display_name": "Python 3 (ipykernel)",
   "language": "python",
   "name": "python3"
  },
  "language_info": {
   "codemirror_mode": {
    "name": "ipython",
    "version": 3
   },
   "file_extension": ".py",
   "mimetype": "text/x-python",
   "name": "python",
   "nbconvert_exporter": "python",
   "pygments_lexer": "ipython3",
   "version": "3.12.3"
  }
 },
 "nbformat": 4,
 "nbformat_minor": 5
}
