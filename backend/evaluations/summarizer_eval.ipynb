{
 "cells": [
  {
   "cell_type": "code",
   "execution_count": null,
   "metadata": {},
   "outputs": [],
   "source": [
    "# import libraries\n",
    "import os\n",
    "\n",
    "from dotenv import load_dotenv\n",
    "from lna_aggregators.summarizer import Summarizer\n",
    "from lna_db.db.mongo import init_database\n",
    "from lna_db.models.news import Article"
   ]
  },
  {
   "cell_type": "code",
   "execution_count": null,
   "metadata": {},
   "outputs": [],
   "source": [
    "load_dotenv()\n",
    "\n",
    "await init_database(\n",
    "    username=str(os.environ.get(\"username_of_db\")),\n",
    "    password=str(os.environ.get(\"password_of_db\")),\n",
    "    mongo_uri_part2=str(os.environ.get(\"mongo_uri_part2\")),\n",
    ")"
   ]
  },
  {
   "cell_type": "code",
   "execution_count": null,
   "metadata": {},
   "outputs": [],
   "source": [
    "latest_10_articles: list[Article] = (\n",
    "    await Article.find_all().sort(-Article.publish_date).limit(10).to_list()\n",
    ")\n",
    "\n",
    "print(latest_10_articles)"
   ]
  },
  {
   "cell_type": "code",
   "execution_count": null,
   "metadata": {},
   "outputs": [],
   "source": [
    "new_articles_content = \"\"\n",
    "for article in latest_10_articles:\n",
    "    new_articles_content += (\n",
    "        f\"[title]\\n{article.title}\\n\\n[content]\\n{article.content}\\n\"\n",
    "    )\n",
    "\n",
    "print(new_articles_content)"
   ]
  },
  {
   "cell_type": "code",
   "execution_count": null,
   "metadata": {},
   "outputs": [],
   "source": [
    "summarizer = Summarizer()\n",
    "summary = await summarizer.generate_summary(\n",
    "    previous_summary=\"\", new_articles_content=new_articles_content\n",
    ")\n",
    "\n",
    "print(summary)"
   ]
  }
 ],
 "metadata": {
  "kernelspec": {
   "display_name": "Python (evals)",
   "language": "python",
   "name": "evals"
  },
  "language_info": {
   "codemirror_mode": {
    "name": "ipython",
    "version": 3
   },
   "file_extension": ".py",
   "mimetype": "text/x-python",
   "name": "python",
   "nbconvert_exporter": "python",
   "pygments_lexer": "ipython3",
   "version": "3.11.9"
  }
 },
 "nbformat": 4,
 "nbformat_minor": 2
}
